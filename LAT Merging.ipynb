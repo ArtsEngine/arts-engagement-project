{
 "cells": [
  {
   "cell_type": "code",
   "execution_count": 1,
   "metadata": {},
   "outputs": [
    {
     "name": "stderr",
     "output_type": "stream",
     "text": [
      "── Attaching packages ─────────────────────────────────────── tidyverse 1.2.1 ──\n",
      "✔ ggplot2 3.1.0     ✔ purrr   0.2.5\n",
      "✔ tibble  1.4.2     ✔ dplyr   0.7.8\n",
      "✔ tidyr   0.8.2     ✔ stringr 1.3.1\n",
      "✔ readr   1.2.1     ✔ forcats 0.3.0\n",
      "── Conflicts ────────────────────────────────────────── tidyverse_conflicts() ──\n",
      "✖ dplyr::filter() masks stats::filter()\n",
      "✖ dplyr::lag()    masks stats::lag()\n",
      "\n",
      "Attaching package: ‘magrittr’\n",
      "\n",
      "The following object is masked from ‘package:purrr’:\n",
      "\n",
      "    set_names\n",
      "\n",
      "The following object is masked from ‘package:tidyr’:\n",
      "\n",
      "    extract\n",
      "\n"
     ]
    }
   ],
   "source": [
    "library(tidyverse)\n",
    "library(magrittr)\n",
    "library(broom)"
   ]
  },
  {
   "cell_type": "code",
   "execution_count": 388,
   "metadata": {},
   "outputs": [
    {
     "data": {
      "text/html": [
       "<ol class=list-inline>\n",
       "\t<li>'all_remove_idxs'</li>\n",
       "\t<li>'all_to_remove'</li>\n",
       "\t<li>'all_to_remove_bak'</li>\n",
       "\t<li>'all_to_remove_docu'</li>\n",
       "\t<li>'all_to_remove_liwc'</li>\n",
       "\t<li>'all_yr_parts'</li>\n",
       "\t<li>'c_rsps'</li>\n",
       "\t<li>'customstops'</li>\n",
       "\t<li>'df'</li>\n",
       "\t<li>'df_qs'</li>\n",
       "\t<li>'docs'</li>\n",
       "\t<li>'docuscope_data'</li>\n",
       "\t<li>'double_merged_df'</li>\n",
       "\t<li>'i'</li>\n",
       "\t<li>'integ_complx'</li>\n",
       "\t<li>'j'</li>\n",
       "\t<li>'liwcs'</li>\n",
       "\t<li>'lower'</li>\n",
       "\t<li>'m'</li>\n",
       "\t<li>'merged_df'</li>\n",
       "\t<li>'mthetas'</li>\n",
       "\t<li>'nearly_df'</li>\n",
       "\t<li>'o'</li>\n",
       "\t<li>'procs'</li>\n",
       "\t<li>'q'</li>\n",
       "\t<li>'q_yr_names'</li>\n",
       "\t<li>'question_names'</li>\n",
       "\t<li>'questions'</li>\n",
       "\t<li>'r_rsps'</li>\n",
       "\t<li>'remove_idxs'</li>\n",
       "\t<li>'stm_settings'</li>\n",
       "\t<li>'temp'</li>\n",
       "\t<li>'temp_row'</li>\n",
       "\t<li>'tempt'</li>\n",
       "\t<li>'thetas'</li>\n",
       "\t<li>'to_merge'</li>\n",
       "\t<li>'to_remove'</li>\n",
       "\t<li>'update_parts'</li>\n",
       "\t<li>'y'</li>\n",
       "\t<li>'yr_parts'</li>\n",
       "\t<li>'yr_string'</li>\n",
       "</ol>\n"
      ],
      "text/latex": [
       "\\begin{enumerate*}\n",
       "\\item 'all\\_remove\\_idxs'\n",
       "\\item 'all\\_to\\_remove'\n",
       "\\item 'all\\_to\\_remove\\_bak'\n",
       "\\item 'all\\_to\\_remove\\_docu'\n",
       "\\item 'all\\_to\\_remove\\_liwc'\n",
       "\\item 'all\\_yr\\_parts'\n",
       "\\item 'c\\_rsps'\n",
       "\\item 'customstops'\n",
       "\\item 'df'\n",
       "\\item 'df\\_qs'\n",
       "\\item 'docs'\n",
       "\\item 'docuscope\\_data'\n",
       "\\item 'double\\_merged\\_df'\n",
       "\\item 'i'\n",
       "\\item 'integ\\_complx'\n",
       "\\item 'j'\n",
       "\\item 'liwcs'\n",
       "\\item 'lower'\n",
       "\\item 'm'\n",
       "\\item 'merged\\_df'\n",
       "\\item 'mthetas'\n",
       "\\item 'nearly\\_df'\n",
       "\\item 'o'\n",
       "\\item 'procs'\n",
       "\\item 'q'\n",
       "\\item 'q\\_yr\\_names'\n",
       "\\item 'question\\_names'\n",
       "\\item 'questions'\n",
       "\\item 'r\\_rsps'\n",
       "\\item 'remove\\_idxs'\n",
       "\\item 'stm\\_settings'\n",
       "\\item 'temp'\n",
       "\\item 'temp\\_row'\n",
       "\\item 'tempt'\n",
       "\\item 'thetas'\n",
       "\\item 'to\\_merge'\n",
       "\\item 'to\\_remove'\n",
       "\\item 'update\\_parts'\n",
       "\\item 'y'\n",
       "\\item 'yr\\_parts'\n",
       "\\item 'yr\\_string'\n",
       "\\end{enumerate*}\n"
      ],
      "text/markdown": [
       "1. 'all_remove_idxs'\n",
       "2. 'all_to_remove'\n",
       "3. 'all_to_remove_bak'\n",
       "4. 'all_to_remove_docu'\n",
       "5. 'all_to_remove_liwc'\n",
       "6. 'all_yr_parts'\n",
       "7. 'c_rsps'\n",
       "8. 'customstops'\n",
       "9. 'df'\n",
       "10. 'df_qs'\n",
       "11. 'docs'\n",
       "12. 'docuscope_data'\n",
       "13. 'double_merged_df'\n",
       "14. 'i'\n",
       "15. 'integ_complx'\n",
       "16. 'j'\n",
       "17. 'liwcs'\n",
       "18. 'lower'\n",
       "19. 'm'\n",
       "20. 'merged_df'\n",
       "21. 'mthetas'\n",
       "22. 'nearly_df'\n",
       "23. 'o'\n",
       "24. 'procs'\n",
       "25. 'q'\n",
       "26. 'q_yr_names'\n",
       "27. 'question_names'\n",
       "28. 'questions'\n",
       "29. 'r_rsps'\n",
       "30. 'remove_idxs'\n",
       "31. 'stm_settings'\n",
       "32. 'temp'\n",
       "33. 'temp_row'\n",
       "34. 'tempt'\n",
       "35. 'thetas'\n",
       "36. 'to_merge'\n",
       "37. 'to_remove'\n",
       "38. 'update_parts'\n",
       "39. 'y'\n",
       "40. 'yr_parts'\n",
       "41. 'yr_string'\n",
       "\n",
       "\n"
      ],
      "text/plain": [
       " [1] \"all_remove_idxs\"    \"all_to_remove\"      \"all_to_remove_bak\" \n",
       " [4] \"all_to_remove_docu\" \"all_to_remove_liwc\" \"all_yr_parts\"      \n",
       " [7] \"c_rsps\"             \"customstops\"        \"df\"                \n",
       "[10] \"df_qs\"              \"docs\"               \"docuscope_data\"    \n",
       "[13] \"double_merged_df\"   \"i\"                  \"integ_complx\"      \n",
       "[16] \"j\"                  \"liwcs\"              \"lower\"             \n",
       "[19] \"m\"                  \"merged_df\"          \"mthetas\"           \n",
       "[22] \"nearly_df\"          \"o\"                  \"procs\"             \n",
       "[25] \"q\"                  \"q_yr_names\"         \"question_names\"    \n",
       "[28] \"questions\"          \"r_rsps\"             \"remove_idxs\"       \n",
       "[31] \"stm_settings\"       \"temp\"               \"temp_row\"          \n",
       "[34] \"tempt\"              \"thetas\"             \"to_merge\"          \n",
       "[37] \"to_remove\"          \"update_parts\"       \"y\"                 \n",
       "[40] \"yr_parts\"           \"yr_string\"         "
      ]
     },
     "metadata": {},
     "output_type": "display_data"
    }
   ],
   "source": [
    "load('../data/artsengagement.Rda')\n",
    "load('../data/open_response_data/docuscope_data.Rda')\n",
    "load('../data/open_response_data/integ_complx.Rda')\n",
    "load('../data/open_response_data/labeled_topic_prevs.Rda')\n",
    "load('../data/open_response_data/liwcs.Rda')\n",
    "ls()"
   ]
  },
  {
   "cell_type": "code",
   "execution_count": 389,
   "metadata": {},
   "outputs": [],
   "source": [
    "load('../data/tidy_questions_best.Rda')"
   ]
  },
  {
   "cell_type": "code",
   "execution_count": 390,
   "metadata": {},
   "outputs": [],
   "source": [
    "questions <- questions[question_names %in% names(thetas)]\n",
    "names(questions) <- names(thetas)"
   ]
  },
  {
   "cell_type": "markdown",
   "metadata": {},
   "source": [
    "---"
   ]
  },
  {
   "cell_type": "code",
   "execution_count": 391,
   "metadata": {},
   "outputs": [],
   "source": [
    "# Fixing and updating topic names\n",
    "names(thetas[['barriers']]) <- c('key', 'Competitive Auditions', 'Time_1', 'Cost', 'University Priorities', 'Distance Between Campuses', 'Accessibility', 'Departmental Segregation', 'Low Confidence', 'Unwelcoming Environment', 'Lack of Familiarity', 'No Barriers, Except...', 'Lack of Personal Interest', 'No Barriers', 'University Program Requirements', 'Fit With Major and Course Scarcity', 'Ennui', 'Awareness', 'Time_2', 'Course Load')\n",
    "names(thetas[['feel']]) <- c('key', 'Culturally Aware', 'Entertained', 'Regretful', 'Wishful', 'Part of Something Bigger', 'Less Stressed and More Expressive', 'Grateful', 'Connected to Others through the Arts', 'Happy', 'Proud', 'Gained Perspective and Appreciation', 'Accomplished & Creative', 'Refreshed', 'Well Rounded')\n",
    "names(thetas[['sr_development']]) <- c('key', 'Played a Role', 'Gained Skills', 'Became Part of Identity', 'New Social Bonds', 'Cultural Understanding', 'Strengthened Social Bonds', 'Deeper Appreciation', 'Finding Balance in Life', 'Supporting Friends', 'Didn\\'t Play a Role')\n",
    "names(thetas[['behavior2']])[2] <- 'Better Time Management'\n",
    "names(thetas[['sr_othergrowth']]) <- c('key', 'More Open Minded', 'Personal Skills & Development', 'Self Exploration', 'Connect with People in New Ways', 'Exposure to New Experiences', 'Cultural Appreciation', 'Spiritually, Emotionally, Mentally, Physically', 'More Self-Aware', 'Creativity, Expression and Communication', 'Understanding and Accepting Others', 'Expanded World View')\n",
    "names(thetas[['sr_role']]) <- c('key', 'New People & New Skills', 'Influenced Career Path', 'More Involved', 'Entertainment', 'Unable to Participate Much', 'Personal Growth', 'Break from Classes', 'Personal Enrichment', 'Fun Social Events', 'Small Role', 'Learning', 'Broadened World View', 'Meet New Friends')\n",
    "names(thetas[[7]]) <- c('key', 'Unknown / None', 'Lifelong Participation', 'Attending Events 1', 'In Free Time', 'Attending Events 2', 'Misc. Participation', 'Taking Classes 1', 'Attending Events 3', 'Grad School', 'Through a Career', 'Creating', 'Through Work', 'Unsure but Hopeful', 'Community Groups', 'Through Life', 'Playing Instruments', 'Encouraging Children', 'Taking Classes 2')\n",
    "names(thetas[[8]]) <- c('key', 'No Impact 1', 'Career Tradeoff Concerns', 'Art as a Career', 'Large Role', 'Undecided on Career', 'No Impact 2', 'Want Art to be Part of Future', 'Some Impact', 'Small Role', 'Looking for Creative Expression in Non-Artistic Career')\n",
    "\n"
   ]
  },
  {
   "cell_type": "code",
   "execution_count": 392,
   "metadata": {},
   "outputs": [],
   "source": [
    "#save(x=thetas, file='../data/open_response_data/labeled_topic_prevs.Rda')"
   ]
  },
  {
   "cell_type": "code",
   "execution_count": 393,
   "metadata": {},
   "outputs": [],
   "source": [
    "load('../data/open_response_data/labeled_topic_prevs.Rda')"
   ]
  },
  {
   "cell_type": "markdown",
   "metadata": {},
   "source": [
    "----"
   ]
  },
  {
   "cell_type": "markdown",
   "metadata": {},
   "source": [
    "Rename and remove punc. from theta variables"
   ]
  },
  {
   "cell_type": "code",
   "execution_count": 394,
   "metadata": {},
   "outputs": [],
   "source": [
    "for(i in seq(thetas)) {\n",
    "    names(thetas[[i]]) <- names(thetas[[i]]) %>% gsub('[.]','', x=.) %>% \n",
    "                                                gsub(\"&\", 'and', x=.) %>% \n",
    "                                                gsub(\"/\", '', x=.) %>%\n",
    "                                                gsub(\"'\", '', x=.) %>% \n",
    "                                                gsub(\"  \", ' ', x=.) %>% \n",
    "                                                gsub(\" \", '_', x=.)\n",
    "    for(j in seq(thetas[[i]])) {\n",
    "        names(thetas[[i]])[j] <- paste(c(names(thetas)[i], 'topic', names(thetas[[i]])[j]), collapse = '..')\n",
    "    }\n",
    "}\n",
    "for(i in seq(thetas)) {\n",
    "    names(thetas[[i]])[1] <- 'key'\n",
    "}"
   ]
  },
  {
   "cell_type": "markdown",
   "metadata": {},
   "source": [
    "`df$key[!(df$key %in% thetas[[1]]$key)] %>% length == thetas[[1]] %>% nrow`\n",
    "\n",
    "If false, then question was asked over multiple years and merged for stm\n",
    "1. Remove stm docs removed from tidy questions,\n",
    "1. Merge tidy questions and theta\n",
    "1. find first and last response (df order) of each year to mark as boundaries\n",
    "1. using those boundaries, segregate responses based on row index into years"
   ]
  },
  {
   "cell_type": "code",
   "execution_count": 395,
   "metadata": {},
   "outputs": [],
   "source": [
    "library(stm)\n",
    "load('../data/stm_settings.Rda')\n",
    "load('../data/tidy_questions_best.Rda')"
   ]
  },
  {
   "cell_type": "code",
   "execution_count": 396,
   "metadata": {},
   "outputs": [],
   "source": [
    "names(questions) <- question_names"
   ]
  },
  {
   "cell_type": "code",
   "execution_count": 397,
   "metadata": {},
   "outputs": [],
   "source": [
    "mthetas <- c()\n",
    "for(i in seq(thetas)) {\n",
    "    if(select(df[df %>% sapply(is.character)], ends_with(names(thetas)[i])) %>% ncol > 1) {\n",
    "        mthetas %<>% c(list(thetas[[i]]))\n",
    "        names(mthetas)[i] <- names(thetas)[i]\n",
    "    }       \n",
    "}"
   ]
  },
  {
   "cell_type": "code",
   "execution_count": 398,
   "metadata": {},
   "outputs": [
    {
     "data": {
      "text/html": [
       "<ol class=list-inline>\n",
       "\t<li>'barriers'</li>\n",
       "\t<li>'change'</li>\n",
       "\t<li>'definition'</li>\n",
       "\t<li>'behavior2'</li>\n",
       "\t<li>'childhood2'</li>\n",
       "\t<li>'feel'</li>\n",
       "</ol>\n"
      ],
      "text/latex": [
       "\\begin{enumerate*}\n",
       "\\item 'barriers'\n",
       "\\item 'change'\n",
       "\\item 'definition'\n",
       "\\item 'behavior2'\n",
       "\\item 'childhood2'\n",
       "\\item 'feel'\n",
       "\\end{enumerate*}\n"
      ],
      "text/markdown": [
       "1. 'barriers'\n",
       "2. 'change'\n",
       "3. 'definition'\n",
       "4. 'behavior2'\n",
       "5. 'childhood2'\n",
       "6. 'feel'\n",
       "\n",
       "\n"
      ],
      "text/plain": [
       "[1] \"barriers\"   \"change\"     \"definition\" \"behavior2\"  \"childhood2\"\n",
       "[6] \"feel\"      "
      ]
     },
     "metadata": {},
     "output_type": "display_data"
    }
   ],
   "source": [
    "mthetas %>% names"
   ]
  },
  {
   "cell_type": "markdown",
   "metadata": {},
   "source": [
    "----"
   ]
  },
  {
   "cell_type": "markdown",
   "metadata": {},
   "source": [
    "- df\n",
    "- find year cutoffs via n responses each year\n",
    "- remove responses in order of \n",
    "    1. missing from questions df\n",
    "    1. procs\\$removed\n",
    "    1. docs\\$removed\n",
    "    - update year cutoffs by keeping track of how many docs are removed from each year\n",
    "- split according to year cutoffs\n",
    "- merge(..., by=\"key\", all=T) x #years\n",
    "- done"
   ]
  },
  {
   "cell_type": "markdown",
   "metadata": {},
   "source": [
    "---\n",
    "loop below"
   ]
  },
  {
   "cell_type": "code",
   "execution_count": 399,
   "metadata": {},
   "outputs": [],
   "source": [
    "# needs yr_parts variable\n",
    "update_parts <- function(yr_parts, idxs) {\n",
    "    for(i in seq(yr_parts)) {\n",
    "        res <- idxs %>% sapply(function(idx)(idx < yr_parts[i])) %>% sum\n",
    "        yr_parts[i] <- yr_parts[i] - res\n",
    "    }\n",
    "    return(yr_parts)\n",
    "}"
   ]
  },
  {
   "cell_type": "code",
   "execution_count": 400,
   "metadata": {},
   "outputs": [],
   "source": [
    "# needs df_qs variable\n",
    "remove_idxs <- function(df_qs, idxs) {\n",
    "    df_qs <- df_qs[-idxs, ]\n",
    "    return(df_qs)\n",
    "}"
   ]
  },
  {
   "cell_type": "markdown",
   "metadata": {},
   "source": [
    "----\n"
   ]
  },
  {
   "cell_type": "code",
   "execution_count": 402,
   "metadata": {},
   "outputs": [],
   "source": [
    "liwcs <- liwcs[names(liwcs) %in% names(mthetas)]\n",
    "docuscope_data <- docuscope_data[names(docuscope_data) %in% names(mthetas)]\n",
    "integ_complx <- integ_complx[names(integ_complx) %in% names(mthetas)]\n",
    "stm_settings <- stm_settings[names(stm_settings) %in% names(mthetas)]"
   ]
  },
  {
   "cell_type": "markdown",
   "metadata": {},
   "source": [
    "### MThetas"
   ]
  },
  {
   "cell_type": "code",
   "execution_count": 403,
   "metadata": {},
   "outputs": [],
   "source": [
    "to_merge <- c()\n",
    "all_to_remove <- c()\n",
    "all_yr_parts <- c()\n",
    "for(q in seq(mthetas)) {\n",
    "    q_yr_names <- select(df[sapply(df,is.character)], ends_with(names(mthetas)[q])) %>% names\n",
    "\n",
    "    yr_parts <- c(0)\n",
    "    for(m in seq(q_yr_names)) {\n",
    "        yr_parts %<>% c(yr_parts[length(yr_parts)] + length(na.omit(df[[q_yr_names[m]]])))\n",
    "    }\n",
    "    all_yr_parts %<>% c(list(yr_parts))\n",
    "\n",
    "    df_qs <- df %>% select(q_yr_names[1], key) %>% na.omit() %>% rename(var=q_yr_names[1])\n",
    "    for(o in 2:length(q_yr_names)) {\n",
    "        df_qs %<>% bind_rows(df %>% select(q_yr_names[o], key) %>% na.omit() %>% rename(var=q_yr_names[o]))\n",
    "    }\n",
    "    c_rsps <- c() # combined responses (w key) (unique unless same response between years)\n",
    "    for(o in seq(nrow(df_qs))) {\n",
    "       c_rsps %<>% c(paste0(df_qs[[o,2]], '_ _', df_qs[[o,1]]))\n",
    "    }\n",
    "\n",
    "    r_rsps <- c()\n",
    "    for(o in seq(nrow(questions[[names(mthetas)[q]]]))) {\n",
    "       r_rsps %<>% c(paste0(questions[[names(mthetas)[q]]][[o,2]], '_ _', questions[[names(mthetas)[q]]][[o,1]]))\n",
    "    }\n",
    "    #which(c_rsps %in% c_rsps[!(c_rsps %in% r_rsps)])\n",
    "    to_remove <- which(c_rsps %in% c_rsps[!(c_rsps %in% r_rsps)])\n",
    "\n",
    "    # inspect missing data\n",
    "    #temp <- questions[[names(mthetas)[q]]]\n",
    "    #names(temp) <- names(df_qs)\n",
    "    #setdiff(df_qs, temp)\n",
    "    #---\n",
    "    # in bound rows df of barriers, but not in questions (exact same code used to make both) (updated df since?)\n",
    "    ## df_qs[!(df_qs$var %in% questions[[names(mthetas)[q]]][[1]]),] %>% rownames %>% as.numeric\n",
    "    ## doesnt account for key\n",
    "\n",
    "    if(length(to_remove) > 0) {\n",
    "        yr_parts %<>% update_parts(to_remove)\n",
    "        df_qs %<>% remove_idxs(to_remove)\n",
    "    }\n",
    "\n",
    "    #---\n",
    "    i <- stm_settings[[q]]$i\n",
    "    lower <- stm_settings[[q]]$lowerThresh\n",
    "    customstops <- stm_settings[[q]]$customStops\n",
    "    procs <- textProcessor(documents = questions[[i]][[1]], \n",
    "                            metadata = questions[[i]][2],\n",
    "                            verbose=F,\n",
    "                            customstopwords = customstops\n",
    "                           )\n",
    "    docs <- prepDocuments(documents = procs$documents,\n",
    "                          vocab = procs$vocab,\n",
    "                          meta = procs$meta,\n",
    "                          lower.thresh = lower,\n",
    "                         verbose=F)\n",
    "    \n",
    "    if(q > 3) {# after 3, no overlapping responses (and probs ran into on 4)\n",
    "        procs$docs.removed <- which(!(df_qs$key %in% procs$meta$key))\n",
    "    }\n",
    "    \n",
    "    if(length(procs$docs.removed) > 0) {\n",
    "        yr_parts %<>% update_parts(procs$docs.removed)\n",
    "        df_qs %<>% remove_idxs(procs$docs.removed)\n",
    "    }\n",
    "    \n",
    "    if(q > 3)\n",
    "        docs$docs.removed <- which(!(df_qs$key %in% docs$meta$key))\n",
    "    \n",
    "    if(length(docs$docs.removed) > 0) {\n",
    "        yr_parts %<>% update_parts(docs$docs.removed)\n",
    "        df_qs %<>% remove_idxs(docs$docs.removed)\n",
    "    }\n",
    "    \n",
    "    if (setdiff(df_qs$key, mthetas[[q]]$key) %>% length != 0 ||\n",
    "    nrow(df_qs) != nrow(mthetas[[q]]) || yr_parts[length(yr_parts)] != nrow(df_qs)) {\n",
    "        print('error!')\n",
    "        print(q)\n",
    "        break\n",
    "    }\n",
    "\n",
    "    if(q <= 3) {\n",
    "        df_qs <- bind_cols(df_qs %>% select(-var), mthetas[[q]] %>% select(-key))\n",
    "    } else {\n",
    "        df_qs <- merge(df_qs %>% select(-var), mthetas[[q]], by='key', all=T)\n",
    "    }\n",
    "\n",
    "    for(i in seq(q_yr_names)) {\n",
    "        temp <- df_qs[(yr_parts[i]+1):yr_parts[i+1], ]\n",
    "        if (!(q == 3 & i == 1))\n",
    "            names(temp) %<>% sapply(function(x)(paste0(substr(q_yr_names[i],1,3), x)))\n",
    "        names(temp)[1] <- 'key'\n",
    "        rownames(temp) <- c()\n",
    "        to_merge %<>% c(list(temp))\n",
    "        #df <- merge(df, temp, by='key', all=T) # messes up subsequent q/mtheta loop iterations\n",
    "    }                \n",
    "    all_to_remove %<>% c(list((c(list(to_remove),\n",
    "                             list(procs$docs.removed),\n",
    "                             list(docs$docs.removed)))))  \n",
    "}"
   ]
  },
  {
   "cell_type": "markdown",
   "metadata": {},
   "source": [
    "----\n",
    "### liwcs"
   ]
  },
  {
   "cell_type": "code",
   "execution_count": 404,
   "metadata": {},
   "outputs": [],
   "source": [
    "# renaming\n",
    "for(i in seq(liwcs)) {\n",
    "    names(liwcs[[i]]) <- names(liwcs[[i]]) %>% gsub('[.]','', x=.) %>% \n",
    "                                                gsub(\"&\", 'and', x=.) %>% \n",
    "                                                gsub(\"/\", '', x=.) %>%\n",
    "                                                gsub(\"'\", '', x=.) %>% \n",
    "                                                gsub(\"  \", ' ', x=.) %>% \n",
    "                                                gsub(\" \", '_', x=.)\n",
    "    for(j in seq(liwcs[[i]])) {\n",
    "        names(liwcs[[i]])[j] <- paste(c(names(liwcs)[i], 'LIWC', \n",
    "                                                  names(liwcs[[i]])[j]), collapse = '..')\n",
    "    }\n",
    "}\n",
    "for(i in seq(liwcs)) {\n",
    "    names(liwcs[[i]])[1] <- 'key'\n",
    "}"
   ]
  },
  {
   "cell_type": "code",
   "execution_count": 405,
   "metadata": {},
   "outputs": [],
   "source": [
    "for(q in seq(liwcs)) {\n",
    "    q_yr_names <- select(df[sapply(df,is.character)], ends_with(names(liwcs)[q])) %>% names\n",
    "\n",
    "    df_qs <- df %>% select(q_yr_names[1], key) %>% na.omit() %>% rename(var=q_yr_names[1])\n",
    "    for(o in 2:length(q_yr_names)) {\n",
    "        df_qs %<>% bind_rows(df %>% select(q_yr_names[o], key) %>% na.omit() %>% rename(var=q_yr_names[o]))\n",
    "    }\n",
    "    \n",
    "    yr_parts <- all_yr_parts[[q]]\n",
    "    to_remove <- all_to_remove[[q]][[1]]\n",
    "    if(length(to_remove) > 0) {\n",
    "        yr_parts %<>% update_parts(to_remove)\n",
    "        df_qs %<>% remove_idxs(to_remove)\n",
    "    }\n",
    "    \n",
    "    if (setdiff(df_qs$key, liwcs[[q]]$key) %>% length != 0 ||\n",
    "    nrow(df_qs) != nrow(liwcs[[q]]) || yr_parts[length(yr_parts)] != nrow(df_qs)) {\n",
    "        print('error!')\n",
    "        print(q)\n",
    "        break\n",
    "    }\n",
    "\n",
    "    if(q <= 3) {\n",
    "        df_qs <- bind_cols(df_qs %>% select(-var), liwcs[[q]] %>% select(-key))\n",
    "    } else {\n",
    "        df_qs <- merge(df_qs %>% select(-var), liwcs[[q]], by='key', all=T)\n",
    "    }\n",
    "\n",
    "    for(i in seq(q_yr_names)) {\n",
    "        temp <- df_qs[(yr_parts[i]+1):yr_parts[i+1], ]\n",
    "        if (!(q == 3 & i == 1))\n",
    "            names(temp) %<>% sapply(function(x)(paste0(substr(q_yr_names[i],1,3), x)))\n",
    "        names(temp)[1] <- 'key'\n",
    "        rownames(temp) <- c()\n",
    "        to_merge %<>% c(list(temp))\n",
    "        #df <- merge(df, temp, by='key', all=T) # messes up subsequent q/mtheta loop iterations\n",
    "    }                \n",
    "}"
   ]
  },
  {
   "cell_type": "markdown",
   "metadata": {},
   "source": [
    "----\n",
    "### docuscope_data"
   ]
  },
  {
   "cell_type": "code",
   "execution_count": 406,
   "metadata": {},
   "outputs": [],
   "source": [
    "for(i in seq(docuscope_data)) {\n",
    "    names(docuscope_data[[i]]) <- names(docuscope_data[[i]]) %>% gsub('[.]','', x=.) %>% \n",
    "                                                gsub(\"&\", 'and', x=.) %>% \n",
    "                                                gsub(\"/\", '', x=.) %>%\n",
    "                                                gsub(\"'\", '', x=.) %>% \n",
    "                                                gsub(\"  \", ' ', x=.) %>% \n",
    "                                                gsub(\" \", '_', x=.)\n",
    "    for(j in seq(docuscope_data[[i]])) {\n",
    "        names(docuscope_data[[i]])[j] <- paste(c(names(docuscope_data)[i], 'docuscope', \n",
    "                                                  names(docuscope_data[[i]])[j]), collapse = '..')\n",
    "    }\n",
    "}\n",
    "for(i in seq(docuscope_data)) {\n",
    "    names(docuscope_data[[i]])[1] <- 'key'\n",
    "}"
   ]
  },
  {
   "cell_type": "code",
   "execution_count": 407,
   "metadata": {},
   "outputs": [],
   "source": [
    "for(q in seq(docuscope_data)) {\n",
    "    q_yr_names <- select(df[sapply(df,is.character)], ends_with(names(docuscope_data)[q])) %>% names\n",
    "\n",
    "    df_qs <- df %>% select(q_yr_names[1], key) %>% na.omit() %>% rename(var=q_yr_names[1])\n",
    "    for(o in 2:length(q_yr_names)) {\n",
    "        df_qs %<>% bind_rows(df %>% select(q_yr_names[o], key) %>% na.omit() %>% rename(var=q_yr_names[o]))\n",
    "    }\n",
    "    \n",
    "    yr_parts <- all_yr_parts[[q]]\n",
    "    to_remove <- all_to_remove[[q]][[1]]\n",
    "    if(length(to_remove) > 0) {\n",
    "        yr_parts %<>% update_parts(to_remove)\n",
    "        df_qs %<>% remove_idxs(to_remove)\n",
    "    }\n",
    "    \n",
    "    if (setdiff(df_qs$key, docuscope_data[[q]]$key) %>% length != 0 ||\n",
    "    nrow(df_qs) != nrow(docuscope_data[[q]]) || yr_parts[length(yr_parts)] != nrow(df_qs)) {\n",
    "        print('error!')\n",
    "        print(q)\n",
    "        break\n",
    "    }\n",
    "\n",
    "    if(q <= 3) {\n",
    "        df_qs <- bind_cols(df_qs %>% select(-var), docuscope_data[[q]] %>% select(-key))\n",
    "    } else {\n",
    "        df_qs <- merge(df_qs %>% select(-var), docuscope_data[[q]], by='key', all=T)\n",
    "    }\n",
    "\n",
    "    for(i in seq(q_yr_names)) {\n",
    "        temp <- df_qs[(yr_parts[i]+1):yr_parts[i+1], ]\n",
    "        if (!(q == 3 & i == 1))\n",
    "            names(temp) %<>% sapply(function(x)(paste0(substr(q_yr_names[i],1,3), x)))\n",
    "        names(temp)[1] <- 'key'\n",
    "        rownames(temp) <- c()\n",
    "        to_merge %<>% c(list(temp))\n",
    "        #df <- merge(df, temp, by='key', all=T) # messes up subsequent q/mtheta loop iterations\n",
    "    }                \n",
    "}"
   ]
  },
  {
   "cell_type": "markdown",
   "metadata": {},
   "source": [
    "----\n",
    "### AIC"
   ]
  },
  {
   "cell_type": "code",
   "execution_count": 408,
   "metadata": {},
   "outputs": [],
   "source": [
    "for(i in seq(integ_complx)) {\n",
    "    names(integ_complx[[i]]) <- names(integ_complx[[i]]) %>% gsub('[.]','', x=.) %>% \n",
    "                                                gsub(\"&\", 'and', x=.) %>% \n",
    "                                                gsub(\"/\", '', x=.) %>%\n",
    "                                                gsub(\"'\", '', x=.) %>% \n",
    "                                                gsub(\"  \", ' ', x=.) %>% \n",
    "                                                gsub(\" \", '_', x=.)\n",
    "    for(j in seq(integ_complx[[i]])) {\n",
    "        names(integ_complx[[i]])[j] <- paste(c(names(integ_complx)[i], 'AIC', \n",
    "                                                  names(integ_complx[[i]])[j]), collapse = '..')\n",
    "    }\n",
    "}\n",
    "for(i in seq(integ_complx)) {\n",
    "    names(integ_complx[[i]])[1] <- 'key'\n",
    "}"
   ]
  },
  {
   "cell_type": "code",
   "execution_count": 409,
   "metadata": {},
   "outputs": [],
   "source": [
    "for(q in seq(integ_complx)) {\n",
    "    q_yr_names <- select(df[sapply(df,is.character)], ends_with(names(integ_complx)[q])) %>% names\n",
    "\n",
    "    df_qs <- df %>% select(q_yr_names[1], key) %>% na.omit() %>% rename(var=q_yr_names[1])\n",
    "    for(o in 2:length(q_yr_names)) {\n",
    "        df_qs %<>% bind_rows(df %>% select(q_yr_names[o], key) %>% na.omit() %>% rename(var=q_yr_names[o]))\n",
    "    }\n",
    "    \n",
    "    yr_parts <- all_yr_parts[[q]]\n",
    "    to_remove <- all_to_remove[[q]][[1]]\n",
    "    \n",
    "    if(q == 1) # not sure whats going on here, but I checked the data and it aligns\n",
    "        to_remove <- which(df_qs$key %in% setdiff(df_qs$key, integ_complx[[q]]$key))\n",
    "    \n",
    "    if(length(to_remove) > 0) {\n",
    "        yr_parts %<>% update_parts(to_remove)\n",
    "        df_qs %<>% remove_idxs(to_remove)\n",
    "    }\n",
    "    \n",
    "    \n",
    "    if (setdiff(df_qs$key, integ_complx[[q]]$key) %>% length != 0 ||\n",
    "        nrow(df_qs) != nrow(integ_complx[[q]]) || yr_parts[length(yr_parts)] != nrow(df_qs)) {\n",
    "        print('error!')\n",
    "        print(q)\n",
    "        break\n",
    "    }\n",
    "    \n",
    "    if(q <= 3) {\n",
    "        df_qs <- bind_cols(df_qs %>% select(-var), integ_complx[[q]] %>% select(-key))\n",
    "    } else {\n",
    "        df_qs <- merge(df_qs %>% select(-var), integ_complx[[q]], by='key', all=T)\n",
    "    }\n",
    "\n",
    "    for(i in seq(q_yr_names)) {\n",
    "        temp <- df_qs[(yr_parts[i]+1):yr_parts[i+1], ]\n",
    "        if (!(q == 3 & i == 1))\n",
    "            names(temp) %<>% sapply(function(x)(paste0(substr(q_yr_names[i],1,3), x)))\n",
    "        names(temp)[1] <- 'key'\n",
    "        rownames(temp) <- c()\n",
    "        to_merge %<>% c(list(temp))\n",
    "        #df <- merge(df, temp, by='key', all=T) # messes up subsequent q/mtheta loop iterations\n",
    "    }                \n",
    "}"
   ]
  },
  {
   "cell_type": "markdown",
   "metadata": {},
   "source": [
    "# Merging back into df"
   ]
  },
  {
   "cell_type": "code",
   "execution_count": 410,
   "metadata": {},
   "outputs": [],
   "source": [
    "merged_df <- df\n",
    "for(i in seq(to_merge)) {\n",
    "    temp_row <- merged_df %>% nrow\n",
    "    merged_df <- merge(merged_df, to_merge[[i]], by='key', all=T)\n",
    "    if (merged_df %>% nrow > temp_row) {\n",
    "        print(i)\n",
    "        break\n",
    "    }\n",
    "}"
   ]
  },
  {
   "cell_type": "code",
   "execution_count": 412,
   "metadata": {},
   "outputs": [],
   "source": [
    "nearly_df <- read.csv('../data/nearly_complete_artsengagement.csv')"
   ]
  },
  {
   "cell_type": "code",
   "execution_count": 413,
   "metadata": {},
   "outputs": [
    {
     "data": {
      "text/html": [
       "<ol class=list-inline>\n",
       "\t<li>4828</li>\n",
       "\t<li>7293</li>\n",
       "</ol>\n"
      ],
      "text/latex": [
       "\\begin{enumerate*}\n",
       "\\item 4828\n",
       "\\item 7293\n",
       "\\end{enumerate*}\n"
      ],
      "text/markdown": [
       "1. 4828\n",
       "2. 7293\n",
       "\n",
       "\n"
      ],
      "text/plain": [
       "[1] 4828 7293"
      ]
     },
     "metadata": {},
     "output_type": "display_data"
    }
   ],
   "source": [
    "merged_df <- merge(merged_df, select(nearly_df, setdiff(names(nearly_df), names(df))[-1], key), by='key', all=T)"
   ]
  },
  {
   "cell_type": "code",
   "execution_count": 441,
   "metadata": {},
   "outputs": [],
   "source": [
    "merged_df <- merged_df[order(match(merged_df$key, df$key)),]"
   ]
  },
  {
   "cell_type": "code",
   "execution_count": 447,
   "metadata": {},
   "outputs": [],
   "source": [
    "rownames(merged_df) <- c()"
   ]
  },
  {
   "cell_type": "code",
   "execution_count": 449,
   "metadata": {},
   "outputs": [],
   "source": [
    "df <- merged_df"
   ]
  },
  {
   "cell_type": "code",
   "execution_count": 450,
   "metadata": {},
   "outputs": [],
   "source": [
    "write.csv(df, file='../data/merged_artsengagement.csv')"
   ]
  },
  {
   "cell_type": "code",
   "execution_count": 451,
   "metadata": {},
   "outputs": [],
   "source": [
    "save(df, file='../data/merged_artsengagement.rda')"
   ]
  }
 ],
 "metadata": {
  "kernelspec": {
   "display_name": "R",
   "language": "R",
   "name": "ir"
  },
  "language_info": {
   "codemirror_mode": "r",
   "file_extension": ".r",
   "mimetype": "text/x-r-source",
   "name": "R",
   "pygments_lexer": "r",
   "version": "3.6.3"
  }
 },
 "nbformat": 4,
 "nbformat_minor": 2
}
