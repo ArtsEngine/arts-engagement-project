{
 "cells": [
  {
   "cell_type": "markdown",
   "metadata": {},
   "source": [
    "## Changes this notebook makes to ArtsEngagementMerged.sav\n",
    "Saves the resulting data to as an Rdata object data/artsengagement.Rda\n",
    "- Converts labelled columns into factors\n",
    "- Converts blank free responses to NA\n",
    "- Removes columns with no responses\n",
    "- Sets checkbox columns to include No as well as NA (ie. set sr_theatre_leadership to No if student marked sr_theatre_leadership)\n",
    "- Replaces \"Did not respond...\" & \"Saw survey, did not respond\" values with NA\n",
    "\n",
    "\n",
    "- Adds the following columns:\n",
    "    - Number of surveys taken (surveys_taken)\n",
    "    - Art engagement levels (engagement_level)\n",
    "    - Major categorization (field (most recent from each student))\n",
    "    - Whether or not a student participated or lead any art activity in a given year, over their entire college experience\n",
    "    - Demographics:\n",
    "        - sex\n",
    "        - ethnic_group\n",
    "        - major\n",
    "        - college\n",
    "        - college2 (acronyms, but somehow there are different from the other college)\n",
    "        - GPA\n",
    "        - first_term (first term attended)\n",
    "        - completion_term\n",
    "- Removes uniqname\n",
    "        \n",
    "### Assumptions this notebook makes\n",
    "the following files are in the directory data in the current path:\n",
    "    - ArtsEngagementMerged.sav\n",
    "    - ArtsEngagementMerged_V2_no_uniqname.sav\n",
    "    - unique_name+key_artsengagement_v2.csv (but not needed)"
   ]
  },
  {
   "cell_type": "code",
   "execution_count": null,
   "metadata": {},
   "outputs": [],
   "source": [
    "library(tidyverse)\n",
    "library(magrittr)\n",
    "library(haven)"
   ]
  },
  {
   "cell_type": "code",
   "execution_count": 2,
   "metadata": {
    "collapsed": true
   },
   "outputs": [],
   "source": [
    "df <- read_sav('data/ArtsEngagementMerged.sav')"
   ]
  },
  {
   "cell_type": "code",
   "execution_count": 3,
   "metadata": {
    "collapsed": true
   },
   "outputs": [],
   "source": [
    "source('select_helpers.R')\n",
    "source('add_cols.R')\n",
    "source('recode_data.R')"
   ]
  },
  {
   "cell_type": "code",
   "execution_count": 4,
   "metadata": {},
   "outputs": [
    {
     "name": "stdout",
     "output_type": "stream",
     "text": [
      "adding participated columns (bool)...\n",
      "categorizing major columns (factor)...\n",
      "adding art engagement levels (numeric)...\n",
      "adding number of surveys taken (numeric)...\n",
      "\n",
      "new columns:\n",
      "participated\n",
      "fr_participated\n",
      "so_participated\n",
      "jr_participated\n",
      "sr_participated\n",
      "college_participated\n",
      "hs_participated\n",
      "field\n",
      "engagement_level\n",
      "surveys_taken\n"
     ]
    }
   ],
   "source": [
    "# Legacy code needed to add new columns\n",
    "temp <- df\n",
    "temp <- recode_data(temp)\n",
    "temp <- add_all_cols(temp)\n",
    "\n",
    "df <- bind_cols(df, select(temp, (ncol(temp)-9):ncol(temp)))"
   ]
  },
  {
   "cell_type": "markdown",
   "metadata": {},
   "source": [
    "# Converting"
   ]
  },
  {
   "cell_type": "markdown",
   "metadata": {},
   "source": [
    "Recode all -99s and -98s to NA (Did not respond to this survey, and Saw survey did not respond)"
   ]
  },
  {
   "cell_type": "code",
   "execution_count": 5,
   "metadata": {
    "collapsed": true
   },
   "outputs": [],
   "source": [
    "df[df==-99] <- NA\n",
    "df[df==-98] <- NA"
   ]
  },
  {
   "cell_type": "markdown",
   "metadata": {},
   "source": [
    "Labelled to factor"
   ]
  },
  {
   "cell_type": "code",
   "execution_count": 6,
   "metadata": {
    "collapsed": true
   },
   "outputs": [],
   "source": [
    "df[df %>% sapply(is.labelled)] %<>% as_factor"
   ]
  },
  {
   "cell_type": "markdown",
   "metadata": {},
   "source": [
    "Removing blank free responses"
   ]
  },
  {
   "cell_type": "code",
   "execution_count": 7,
   "metadata": {},
   "outputs": [
    {
     "data": {
      "text/html": [
       "<ol class=list-inline>\n",
       "\t<li>NA</li>\n",
       "\t<li>NA</li>\n",
       "\t<li>NA</li>\n",
       "\t<li>NA</li>\n",
       "\t<li>NA</li>\n",
       "\t<li>NA</li>\n",
       "</ol>\n"
      ],
      "text/latex": [
       "\\begin{enumerate*}\n",
       "\\item NA\n",
       "\\item NA\n",
       "\\item NA\n",
       "\\item NA\n",
       "\\item NA\n",
       "\\item NA\n",
       "\\end{enumerate*}\n"
      ],
      "text/markdown": [
       "1. NA\n",
       "2. NA\n",
       "3. NA\n",
       "4. NA\n",
       "5. NA\n",
       "6. NA\n",
       "\n",
       "\n"
      ],
      "text/plain": [
       "[1] NA NA NA NA NA NA"
      ]
     },
     "metadata": {},
     "output_type": "display_data"
    }
   ],
   "source": [
    "df[df %>% sapply(is.character)] %<>% sapply(zap_empty)\n",
    "\n",
    "df$definition[is.na(df$definition)] %>% head"
   ]
  },
  {
   "cell_type": "code",
   "execution_count": 8,
   "metadata": {},
   "outputs": [
    {
     "data": {
      "text/plain": [
       ".\n",
       "character    factor   integer   logical   numeric   POSIXct \n",
       "       72       973         1         7       809        12 "
      ]
     },
     "metadata": {},
     "output_type": "display_data"
    }
   ],
   "source": [
    "#cols that have 2 classes all end with 'Date'\n",
    "df %>% sapply(class) %>% sapply(function(x)(x[[1]])) %>% table"
   ]
  },
  {
   "cell_type": "markdown",
   "metadata": {},
   "source": [
    "Removing extraneous columns (those with no responses)"
   ]
  },
  {
   "cell_type": "code",
   "execution_count": 9,
   "metadata": {},
   "outputs": [
    {
     "name": "stdout",
     "output_type": "stream",
     "text": [
      "[1] \"fl_intro2\" \"intro2\"   \n"
     ]
    }
   ],
   "source": [
    "to_drop <- df[df %>% sapply(function(x){return(length(unique(x))==1)})] %>% names\n",
    "to_drop %>% print\n",
    "df[to_drop] <- NULL"
   ]
  },
  {
   "cell_type": "markdown",
   "metadata": {},
   "source": [
    "Finding numeric columns with more than 1 type of response"
   ]
  },
  {
   "cell_type": "code",
   "execution_count": 10,
   "metadata": {},
   "outputs": [
    {
     "data": {
      "text/html": [
       "<ol class=list-inline>\n",
       "\t<li>'f1_Finished'</li>\n",
       "\t<li>'f2_Finished'</li>\n",
       "\t<li>'fl_Finished'</li>\n",
       "\t<li>'so_Finished'</li>\n",
       "\t<li>'jr_Finished'</li>\n",
       "\t<li>'sr_Finished'</li>\n",
       "\t<li>'engagement_level'</li>\n",
       "\t<li>'surveys_taken'</li>\n",
       "</ol>\n"
      ],
      "text/latex": [
       "\\begin{enumerate*}\n",
       "\\item 'f1\\_Finished'\n",
       "\\item 'f2\\_Finished'\n",
       "\\item 'fl\\_Finished'\n",
       "\\item 'so\\_Finished'\n",
       "\\item 'jr\\_Finished'\n",
       "\\item 'sr\\_Finished'\n",
       "\\item 'engagement\\_level'\n",
       "\\item 'surveys\\_taken'\n",
       "\\end{enumerate*}\n"
      ],
      "text/markdown": [
       "1. 'f1_Finished'\n",
       "2. 'f2_Finished'\n",
       "3. 'fl_Finished'\n",
       "4. 'so_Finished'\n",
       "5. 'jr_Finished'\n",
       "6. 'sr_Finished'\n",
       "7. 'engagement_level'\n",
       "8. 'surveys_taken'\n",
       "\n",
       "\n"
      ],
      "text/plain": [
       "[1] \"f1_Finished\"      \"f2_Finished\"      \"fl_Finished\"      \"so_Finished\"     \n",
       "[5] \"jr_Finished\"      \"sr_Finished\"      \"engagement_level\" \"surveys_taken\"   "
      ]
     },
     "metadata": {},
     "output_type": "display_data"
    }
   ],
   "source": [
    "num <- df[df %>% sapply(is.numeric)] %>% names\n",
    "uni <- df[df %>% sapply(function(x){return(length(unique(x))==2)})] %>% names\n",
    "\n",
    "num[!(num %in% uni)]"
   ]
  },
  {
   "cell_type": "markdown",
   "metadata": {},
   "source": [
    "We want to deal with these columns separately\n",
    "\n",
    "Set checkbox columns to include No as well as NA (ie. set sr_theatre_leadership to No if student marked sr_theatre_none)"
   ]
  },
  {
   "cell_type": "code",
   "execution_count": 11,
   "metadata": {},
   "outputs": [
    {
     "data": {
      "text/html": [
       "<table>\n",
       "<thead><tr><th scope=col>sr_theatre_none</th><th scope=col>sr_theatre_attendance</th><th scope=col>sr_theatre_participation</th><th scope=col>sr_theatre_leadership</th><th scope=col>count</th></tr></thead>\n",
       "<tbody>\n",
       "\t<tr><td>NA  </td><td>NA  </td><td>NA  </td><td>NA  </td><td>3546</td></tr>\n",
       "\t<tr><td> 1  </td><td>NA  </td><td>NA  </td><td>NA  </td><td> 608</td></tr>\n",
       "\t<tr><td>NA  </td><td> 1  </td><td>NA  </td><td>NA  </td><td> 545</td></tr>\n",
       "\t<tr><td>NA  </td><td>NA  </td><td> 1  </td><td>NA  </td><td>  54</td></tr>\n",
       "\t<tr><td>NA  </td><td> 1  </td><td> 1  </td><td>NA  </td><td>  36</td></tr>\n",
       "\t<tr><td>NA  </td><td>NA  </td><td>NA  </td><td> 1  </td><td>  17</td></tr>\n",
       "\t<tr><td>NA  </td><td> 1  </td><td> 1  </td><td> 1  </td><td>  12</td></tr>\n",
       "\t<tr><td> 1  </td><td> 1  </td><td>NA  </td><td>NA  </td><td>   6</td></tr>\n",
       "\t<tr><td> 1  </td><td> 1  </td><td> 1  </td><td> 1  </td><td>   1</td></tr>\n",
       "\t<tr><td> 1  </td><td>NA  </td><td> 1  </td><td>NA  </td><td>   1</td></tr>\n",
       "\t<tr><td>NA  </td><td> 1  </td><td>NA  </td><td> 1  </td><td>   1</td></tr>\n",
       "\t<tr><td>NA  </td><td>NA  </td><td> 1  </td><td> 1  </td><td>   1</td></tr>\n",
       "</tbody>\n",
       "</table>\n"
      ],
      "text/latex": [
       "\\begin{tabular}{r|lllll}\n",
       " sr\\_theatre\\_none & sr\\_theatre\\_attendance & sr\\_theatre\\_participation & sr\\_theatre\\_leadership & count\\\\\n",
       "\\hline\n",
       "\t NA   & NA   & NA   & NA   & 3546\\\\\n",
       "\t  1   & NA   & NA   & NA   &  608\\\\\n",
       "\t NA   &  1   & NA   & NA   &  545\\\\\n",
       "\t NA   & NA   &  1   & NA   &   54\\\\\n",
       "\t NA   &  1   &  1   & NA   &   36\\\\\n",
       "\t NA   & NA   & NA   &  1   &   17\\\\\n",
       "\t NA   &  1   &  1   &  1   &   12\\\\\n",
       "\t  1   &  1   & NA   & NA   &    6\\\\\n",
       "\t  1   &  1   &  1   &  1   &    1\\\\\n",
       "\t  1   & NA   &  1   & NA   &    1\\\\\n",
       "\t NA   &  1   & NA   &  1   &    1\\\\\n",
       "\t NA   & NA   &  1   &  1   &    1\\\\\n",
       "\\end{tabular}\n"
      ],
      "text/markdown": [
       "\n",
       "sr_theatre_none | sr_theatre_attendance | sr_theatre_participation | sr_theatre_leadership | count | \n",
       "|---|---|---|---|---|---|---|---|---|---|---|---|\n",
       "| NA   | NA   | NA   | NA   | 3546 | \n",
       "|  1   | NA   | NA   | NA   |  608 | \n",
       "| NA   |  1   | NA   | NA   |  545 | \n",
       "| NA   | NA   |  1   | NA   |   54 | \n",
       "| NA   |  1   |  1   | NA   |   36 | \n",
       "| NA   | NA   | NA   |  1   |   17 | \n",
       "| NA   |  1   |  1   |  1   |   12 | \n",
       "|  1   |  1   | NA   | NA   |    6 | \n",
       "|  1   |  1   |  1   |  1   |    1 | \n",
       "|  1   | NA   |  1   | NA   |    1 | \n",
       "| NA   |  1   | NA   |  1   |    1 | \n",
       "| NA   | NA   |  1   |  1   |    1 | \n",
       "\n",
       "\n"
      ],
      "text/plain": [
       "   sr_theatre_none sr_theatre_attendance sr_theatre_participation\n",
       "1  NA              NA                    NA                      \n",
       "2   1              NA                    NA                      \n",
       "3  NA               1                    NA                      \n",
       "4  NA              NA                     1                      \n",
       "5  NA               1                     1                      \n",
       "6  NA              NA                    NA                      \n",
       "7  NA               1                     1                      \n",
       "8   1               1                    NA                      \n",
       "9   1               1                     1                      \n",
       "10  1              NA                     1                      \n",
       "11 NA               1                    NA                      \n",
       "12 NA              NA                     1                      \n",
       "   sr_theatre_leadership count\n",
       "1  NA                    3546 \n",
       "2  NA                     608 \n",
       "3  NA                     545 \n",
       "4  NA                      54 \n",
       "5  NA                      36 \n",
       "6   1                      17 \n",
       "7   1                      12 \n",
       "8  NA                       6 \n",
       "9   1                       1 \n",
       "10 NA                       1 \n",
       "11  1                       1 \n",
       "12  1                       1 "
      ]
     },
     "metadata": {},
     "output_type": "display_data"
    }
   ],
   "source": [
    "df %>% select(matches('sr_theatre_(none|attendance|participation|leadership)')) %>% \n",
    "        group_by(sr_theatre_none, sr_theatre_attendance, sr_theatre_participation, sr_theatre_leadership) %>% \n",
    "        summarize(count=n()) %>% arrange(desc(count))"
   ]
  },
  {
   "cell_type": "markdown",
   "metadata": {},
   "source": [
    "We can't combine these columns"
   ]
  },
  {
   "cell_type": "code",
   "execution_count": 12,
   "metadata": {
    "collapsed": true
   },
   "outputs": [],
   "source": [
    "df_backup <- df #important for later"
   ]
  },
  {
   "cell_type": "code",
   "execution_count": 117,
   "metadata": {
    "collapsed": true
   },
   "outputs": [],
   "source": [
    "year <- c('(hs)', '(fl|f1|f2)', '(so|sophlate)', '(jr|jl)', '(sr|sl)')\n",
    "art_categories <- c(\"animation\",\"architecture\",\"comedy\",\"comics\",\n",
    "               \"crafts\",\"cwriting\",\"dance\",\"film\",\"gdesign\",\n",
    "               \"multimedia\",\"muscomp\",\"musperf\",\"theatre\",\"visart\",\"other\")\n",
    "motivOrPartic <- c(\"(money|other|credit|fun)\", (\"(none|attendance|participation|leadership)\"))\n",
    "\n",
    "temp <- df[df %>% sapply(function(x){return(length(unique(x))==2 & is.numeric(x))})]\n",
    "for(yr_idx in seq(year)) {\n",
    "    for(art_idx in seq(art_categories)) {\n",
    "        for(mop_idx in seq(motivOrPartic)) {\n",
    "            pattern <- paste(year[yr_idx], \"_\", art_categories[art_idx], \"_\", motivOrPartic[mop_idx], sep=\"\")\n",
    "            datum <- temp[temp %>% names %>% grepl(pattern = pattern, perl=TRUE)]\n",
    "            if(length(datum)!=0) {\n",
    "                filled <- apply(datum, 1, function(x)sum(!is.na(x)))\n",
    "                datum[sapply(filled, function(x)x!=0),] %<>% is.na()\n",
    "                datum[sapply(filled, function(x)x!=0),] <- !datum[sapply(filled, function(x)x!=0),]\n",
    "                temp[temp %>% names %>% grepl(pattern = pattern, perl=TRUE)] <- datum %>% sapply(as.logical)\n",
    "            }\n",
    "        }\n",
    "    }\n",
    "}\n",
    "df[df %>% sapply(function(x){return(length(unique(x))==2 & is.numeric(x))})] <- temp"
   ]
  },
  {
   "cell_type": "code",
   "execution_count": 118,
   "metadata": {
    "collapsed": true
   },
   "outputs": [],
   "source": [
    "categories <- df[df %>% sapply(function(x){return(length(unique(x))==2 & is.numeric(x))})] %>% names\n",
    "categories <- regexpr(\"_\\\\w+_\", names(temp), perl=TRUE) %>% regmatches(x = names(temp)) %>% unique %>%\n",
    "                lapply(function(x){return(substr(x, 2, nchar(x)-1))})\n",
    "\n",
    "temp <- df[df %>% sapply(function(x){return(length(unique(x))==2 & is.numeric(x))})]\n",
    "for(yr_idx in seq(year)) {\n",
    "    for(category in seq(categories)) {\n",
    "        pattern <- paste(year[yr_idx], \"_\", categories[category], \"_\\\\w+\", sep=\"\")\n",
    "        datum <- temp[temp %>% names %>% grepl(pattern = pattern, perl=TRUE)]\n",
    "        if(length(datum)!=0) {\n",
    "            filled <- apply(datum, 1, function(x)sum(!is.na(x)))\n",
    "            datum[sapply(filled, function(x)x!=0),] %<>% is.na()\n",
    "            datum[sapply(filled, function(x)x!=0),] <- !datum[sapply(filled, function(x)x!=0),]\n",
    "            temp[temp %>% names %>% grepl(pattern = pattern, perl=TRUE)] <- datum %>% sapply(as.logical)\n",
    "        }\n",
    "    }\n",
    "  }\n",
    "df[df %>% sapply(function(x){return(length(unique(x))==2 & is.numeric(x))})] <- temp"
   ]
  },
  {
   "cell_type": "markdown",
   "metadata": {},
   "source": [
    "## Deal with remaining numeric columns"
   ]
  },
  {
   "cell_type": "code",
   "execution_count": 119,
   "metadata": {},
   "outputs": [
    {
     "data": {
      "text/plain": [
       ".\n",
       "character    factor   integer   logical   numeric   POSIXct \n",
       "       72       973         1       807         7        12 "
      ]
     },
     "metadata": {},
     "output_type": "display_data"
    }
   ],
   "source": [
    "df %>% sapply(class) %>% sapply(function(x)(x[[1]])) %>% table"
   ]
  },
  {
   "cell_type": "code",
   "execution_count": 120,
   "metadata": {},
   "outputs": [
    {
     "data": {
      "text/html": [
       "<ol class=list-inline>\n",
       "\t<li>'f1_Finished'</li>\n",
       "\t<li>'f2_Finished'</li>\n",
       "\t<li>'fl_Finished'</li>\n",
       "\t<li>'so_Finished'</li>\n",
       "\t<li>'jr_Finished'</li>\n",
       "\t<li>'sr_Finished'</li>\n",
       "\t<li>'engagement_level'</li>\n",
       "\t<li>'surveys_taken'</li>\n",
       "</ol>\n"
      ],
      "text/latex": [
       "\\begin{enumerate*}\n",
       "\\item 'f1\\_Finished'\n",
       "\\item 'f2\\_Finished'\n",
       "\\item 'fl\\_Finished'\n",
       "\\item 'so\\_Finished'\n",
       "\\item 'jr\\_Finished'\n",
       "\\item 'sr\\_Finished'\n",
       "\\item 'engagement\\_level'\n",
       "\\item 'surveys\\_taken'\n",
       "\\end{enumerate*}\n"
      ],
      "text/markdown": [
       "1. 'f1_Finished'\n",
       "2. 'f2_Finished'\n",
       "3. 'fl_Finished'\n",
       "4. 'so_Finished'\n",
       "5. 'jr_Finished'\n",
       "6. 'sr_Finished'\n",
       "7. 'engagement_level'\n",
       "8. 'surveys_taken'\n",
       "\n",
       "\n"
      ],
      "text/plain": [
       "[1] \"f1_Finished\"      \"f2_Finished\"      \"fl_Finished\"      \"so_Finished\"     \n",
       "[5] \"jr_Finished\"      \"sr_Finished\"      \"engagement_level\" \"surveys_taken\"   "
      ]
     },
     "metadata": {},
     "output_type": "display_data"
    }
   ],
   "source": [
    "df[df %>% sapply(is.numeric)] %>% names"
   ]
  },
  {
   "cell_type": "code",
   "execution_count": 121,
   "metadata": {},
   "outputs": [
    {
     "data": {
      "text/html": [
       "<dl>\n",
       "\t<dt>$label</dt>\n",
       "\t\t<dd>'Finished'</dd>\n",
       "\t<dt>$format.spss</dt>\n",
       "\t\t<dd>'F1.0'</dd>\n",
       "\t<dt>$display_width</dt>\n",
       "\t\t<dd>0</dd>\n",
       "</dl>\n"
      ],
      "text/latex": [
       "\\begin{description}\n",
       "\\item[\\$label] 'Finished'\n",
       "\\item[\\$format.spss] 'F1.0'\n",
       "\\item[\\$display\\_width] 0\n",
       "\\end{description}\n"
      ],
      "text/markdown": [
       "$label\n",
       ":   'Finished'\n",
       "$format.spss\n",
       ":   'F1.0'\n",
       "$display_width\n",
       ":   0\n",
       "\n",
       "\n"
      ],
      "text/plain": [
       "$label\n",
       "[1] \"Finished\"\n",
       "\n",
       "$format.spss\n",
       "[1] \"F1.0\"\n",
       "\n",
       "$display_width\n",
       "[1] 0\n"
      ]
     },
     "metadata": {},
     "output_type": "display_data"
    },
    {
     "data": {
      "text/plain": [
       ".\n",
       "   0    1 \n",
       " 268 3589 "
      ]
     },
     "metadata": {},
     "output_type": "display_data"
    }
   ],
   "source": [
    "finished_cols <- df %>% select(ends_with('Finished')) %>% names\n",
    "df_backup[[finished_cols[1]]] %>% attributes\n",
    "df_backup[[finished_cols[1]]] %>% table"
   ]
  },
  {
   "cell_type": "code",
   "execution_count": 122,
   "metadata": {
    "collapsed": true
   },
   "outputs": [],
   "source": [
    "for(i in seq(finished_cols)) {\n",
    "    attribs <- df[[finished_cols[i]]] %>% attributes\n",
    "    df[[finished_cols[i]]] %<>% factor(labels=c('No','Yes'))\n",
    "    attr(df[[finished_cols[i]]], 'label') <- attribs$label\n",
    "}"
   ]
  },
  {
   "cell_type": "code",
   "execution_count": 123,
   "metadata": {},
   "outputs": [
    {
     "data": {
      "text/html": [
       "<dl class=dl-horizontal>\n",
       "\t<dt>No</dt>\n",
       "\t\t<dd>268</dd>\n",
       "\t<dt>Yes</dt>\n",
       "\t\t<dd>3589</dd>\n",
       "\t<dt>NA's</dt>\n",
       "\t\t<dd>971</dd>\n",
       "</dl>\n"
      ],
      "text/latex": [
       "\\begin{description*}\n",
       "\\item[No] 268\n",
       "\\item[Yes] 3589\n",
       "\\item[NA's] 971\n",
       "\\end{description*}\n"
      ],
      "text/markdown": [
       "No\n",
       ":   268Yes\n",
       ":   3589NA's\n",
       ":   971\n",
       "\n"
      ],
      "text/plain": [
       "  No  Yes NA's \n",
       " 268 3589  971 "
      ]
     },
     "metadata": {},
     "output_type": "display_data"
    }
   ],
   "source": [
    "df[[finished_cols[1]]] %>% summary"
   ]
  },
  {
   "cell_type": "markdown",
   "metadata": {},
   "source": [
    "## Turn resulting logical columns into factors"
   ]
  },
  {
   "cell_type": "code",
   "execution_count": 124,
   "metadata": {},
   "outputs": [
    {
     "data": {
      "text/plain": [
       ".\n",
       "character    factor   integer   logical   numeric   POSIXct \n",
       "       72       979         1       807         1        12 "
      ]
     },
     "metadata": {},
     "output_type": "display_data"
    },
    {
     "data": {
      "text/html": [
       "807"
      ],
      "text/latex": [
       "807"
      ],
      "text/markdown": [
       "807"
      ],
      "text/plain": [
       "[1] 807"
      ]
     },
     "metadata": {},
     "output_type": "display_data"
    }
   ],
   "source": [
    "df %>% sapply(class) %>% sapply(function(x)(x[[1]])) %>% table\n",
    "\n",
    "df[df %>% sapply(is.logical)] %>% sapply(function(x)(is.null(attributes(x)))) %>% length"
   ]
  },
  {
   "cell_type": "markdown",
   "metadata": {},
   "source": [
    "All attributes of the logical columns are null"
   ]
  },
  {
   "cell_type": "code",
   "execution_count": 125,
   "metadata": {
    "collapsed": true
   },
   "outputs": [],
   "source": [
    "logical_cols <- df[df %>% sapply(is.logical)] %>% names\n",
    "\n",
    "for(i in seq(logical_cols)) {\n",
    "    if((df[[logical_cols[i]]] %>% table %>% names %>% .[1]) == 'FALSE') {# To make sure No-False and Yes-True line up\n",
    "        df[[logical_cols[i]]] %<>% factor(labels=c('No','Yes'))\n",
    "        attr(df[[logical_cols[i]]], 'label') <- df_backup[[logical_cols[i]]] %>% attributes %>% .$label\n",
    "    }\n",
    "}"
   ]
  },
  {
   "cell_type": "code",
   "execution_count": 126,
   "metadata": {},
   "outputs": [
    {
     "data": {
      "text/plain": [
       ".\n",
       "character    factor   integer   numeric   POSIXct \n",
       "       72      1786         1         1        12 "
      ]
     },
     "metadata": {},
     "output_type": "display_data"
    }
   ],
   "source": [
    "df %>% sapply(class) %>% sapply(function(x)(x[[1]])) %>% table"
   ]
  },
  {
   "cell_type": "markdown",
   "metadata": {},
   "source": [
    "## Replace \"Did not respond...\" & \"Saw survey, did not respond\"  values with NA"
   ]
  },
  {
   "cell_type": "code",
   "execution_count": 127,
   "metadata": {
    "collapsed": true
   },
   "outputs": [],
   "source": [
    "cols <- df[df %>% sapply(is.factor)] %>% names\n",
    "didnotCols <- c()\n",
    "for(i in seq(cols)) {\n",
    "    if (df[[cols[i]]] %>% table %>% names %>% .[1] == 'Did not respond to this survey') {\n",
    "        didnotCols %<>% c(cols[i])\n",
    "        df[df[cols[i]]=='Did not respond to this survey' & !is.na(df[cols[i]]), cols[i]] <- NA\n",
    "        df[df[cols[i]]=='Saw survey, did not respond to question' & !is.na(df[cols[i]]), cols[i]] <- NA\n",
    "        df[cols[i]] %<>% droplevels\n",
    "    }\n",
    "}"
   ]
  },
  {
   "cell_type": "code",
   "execution_count": 128,
   "metadata": {},
   "outputs": [
    {
     "data": {
      "text/html": [
       "268"
      ],
      "text/latex": [
       "268"
      ],
      "text/markdown": [
       "268"
      ],
      "text/plain": [
       "[1] 268"
      ]
     },
     "metadata": {},
     "output_type": "display_data"
    }
   ],
   "source": [
    "didnotCols %>% length"
   ]
  },
  {
   "cell_type": "code",
   "execution_count": 129,
   "metadata": {
    "collapsed": true
   },
   "outputs": [
    {
     "data": {
      "text/html": [
       "<ol class=list-inline>\n",
       "\t<li>'f1_surveyterm'</li>\n",
       "\t<li>'f2_surveyterm'</li>\n",
       "\t<li>'fl_surveyterm'</li>\n",
       "\t<li>'so_surveyterm'</li>\n",
       "\t<li>'sophlate_surveyterm'</li>\n",
       "\t<li>'jr_surveyterm'</li>\n",
       "\t<li>'jl_surveyterm'</li>\n",
       "\t<li>'sr_surveyterm'</li>\n",
       "\t<li>'sl_surveyterm'</li>\n",
       "\t<li>'hs_animation_attendance'</li>\n",
       "\t<li>'hs_animation_participation'</li>\n",
       "\t<li>'hs_animation_leadership'</li>\n",
       "\t<li>'hs_animation_none'</li>\n",
       "\t<li>'hs_architecture_attendance'</li>\n",
       "\t<li>'hs_architecture_participation'</li>\n",
       "\t<li>'hs_architecture_leadership'</li>\n",
       "\t<li>'hs_architecture_none'</li>\n",
       "\t<li>'hs_comedy_attendance'</li>\n",
       "\t<li>'hs_comedy_participation'</li>\n",
       "\t<li>'hs_comedy_leadership'</li>\n",
       "\t<li>'hs_comedy_none'</li>\n",
       "\t<li>'hs_comics_attendance'</li>\n",
       "\t<li>'hs_comics_participation'</li>\n",
       "\t<li>'hs_comics_leadership'</li>\n",
       "\t<li>'hs_comics_none'</li>\n",
       "\t<li>'hs_crafts_attendance'</li>\n",
       "\t<li>'hs_crafts_participation'</li>\n",
       "\t<li>'hs_crafts_leadership'</li>\n",
       "\t<li>'hs_crafts_none'</li>\n",
       "\t<li>'hs_cwriting_attendance'</li>\n",
       "\t<li>'hs_cwriting_participation'</li>\n",
       "\t<li>'hs_cwriting_leadership'</li>\n",
       "\t<li>'hs_cwriting_none'</li>\n",
       "\t<li>'hs_dance_attendance'</li>\n",
       "\t<li>'hs_dance_participation'</li>\n",
       "\t<li>'hs_dance_leadership'</li>\n",
       "\t<li>'hs_dance_none'</li>\n",
       "\t<li>'hs_film_attendance'</li>\n",
       "\t<li>'hs_film_participation'</li>\n",
       "\t<li>'hs_film_leadership'</li>\n",
       "\t<li>'hs_film_none'</li>\n",
       "\t<li>'hs_gdesign_attendance'</li>\n",
       "\t<li>'hs_gdesign_participation'</li>\n",
       "\t<li>'hs_gdesign_leadership'</li>\n",
       "\t<li>'hs_gdesign_none'</li>\n",
       "\t<li>'hs_multimedia_attendance'</li>\n",
       "\t<li>'hs_multimedia_participation'</li>\n",
       "\t<li>'hs_multimedia_leadership'</li>\n",
       "\t<li>'hs_multimedia_none'</li>\n",
       "\t<li>'hs_muscomp_attendance'</li>\n",
       "\t<li>'hs_muscomp_participation'</li>\n",
       "\t<li>'hs_muscomp_leadership'</li>\n",
       "\t<li>'hs_muscomp_none'</li>\n",
       "\t<li>'hs_musperf_attendance'</li>\n",
       "\t<li>'hs_musperf_participation'</li>\n",
       "\t<li>'hs_musperf_leadership'</li>\n",
       "\t<li>'hs_musperf_none'</li>\n",
       "\t<li>'hs_theatre_attendance'</li>\n",
       "\t<li>'hs_theatre_participation'</li>\n",
       "\t<li>'hs_theatre_leadership'</li>\n",
       "\t<li>'hs_theatre_none'</li>\n",
       "\t<li>'hs_visart_attendance'</li>\n",
       "\t<li>'hs_visart_participation'</li>\n",
       "\t<li>'hs_visart_leadership'</li>\n",
       "\t<li>'hs_visart_none'</li>\n",
       "\t<li>'hs_other_attendance'</li>\n",
       "\t<li>'hs_other_participation'</li>\n",
       "\t<li>'hs_other_leadership'</li>\n",
       "\t<li>'hs_other_none'</li>\n",
       "\t<li>'hs_animation_credit'</li>\n",
       "\t<li>'hs_animation_money'</li>\n",
       "\t<li>'hs_animation_fun'</li>\n",
       "\t<li>'hs_animation_other'</li>\n",
       "\t<li>'hs_architecture_credit'</li>\n",
       "\t<li>'hs_architecture_money'</li>\n",
       "\t<li>'hs_architecture_fun'</li>\n",
       "\t<li>'hs_architecture_other'</li>\n",
       "\t<li>'hs_comedy_credit'</li>\n",
       "\t<li>'hs_comedy_money'</li>\n",
       "\t<li>'hs_comedy_fun'</li>\n",
       "\t<li>'hs_comedy_other'</li>\n",
       "\t<li>'hs_comics_credit'</li>\n",
       "\t<li>'hs_comics_money'</li>\n",
       "\t<li>'hs_comics_fun'</li>\n",
       "\t<li>'hs_comics_other'</li>\n",
       "\t<li>'hs_crafts_credit'</li>\n",
       "\t<li>'hs_crafts_money'</li>\n",
       "\t<li>'hs_crafts_fun'</li>\n",
       "\t<li>'hs_crafts_other'</li>\n",
       "\t<li>'hs_cwriting_credit'</li>\n",
       "\t<li>'hs_cwriting_money'</li>\n",
       "\t<li>'hs_cwriting_fun'</li>\n",
       "\t<li>'hs_cwriting_other'</li>\n",
       "\t<li>'hs_dance_credit'</li>\n",
       "\t<li>'hs_dance_money'</li>\n",
       "\t<li>'hs_dance_fun'</li>\n",
       "\t<li>'hs_dance_other'</li>\n",
       "\t<li>'hs_film_credit'</li>\n",
       "\t<li>'hs_film_money'</li>\n",
       "\t<li>'hs_film_fun'</li>\n",
       "\t<li>'hs_film_other'</li>\n",
       "\t<li>'hs_gdesign_credit'</li>\n",
       "\t<li>'hs_gdesign_money'</li>\n",
       "\t<li>'hs_gdesign_fun'</li>\n",
       "\t<li>'hs_gdesign_other'</li>\n",
       "\t<li>'hs_multimedia_credit'</li>\n",
       "\t<li>'hs_multimedia_money'</li>\n",
       "\t<li>'hs_multimedia_fun'</li>\n",
       "\t<li>'hs_multimedia_other'</li>\n",
       "\t<li>'hs_muscomp_credit'</li>\n",
       "\t<li>'hs_muscomp_money'</li>\n",
       "\t<li>'hs_muscomp_fun'</li>\n",
       "\t<li>'hs_muscomp_other'</li>\n",
       "\t<li>'hs_musperf_credit'</li>\n",
       "\t<li>'hs_musperf_money'</li>\n",
       "\t<li>'hs_musperf_fun'</li>\n",
       "\t<li>'hs_musperf_other'</li>\n",
       "\t<li>'hs_theatre_credit'</li>\n",
       "\t<li>'hs_theatre_money'</li>\n",
       "\t<li>'hs_theatre_fun'</li>\n",
       "\t<li>'hs_theatre_other'</li>\n",
       "\t<li>'hs_visart_credit'</li>\n",
       "\t<li>'hs_visart_money'</li>\n",
       "\t<li>'hs_visart_fun'</li>\n",
       "\t<li>'hs_visart_other'</li>\n",
       "\t<li>'hs_other_credit'</li>\n",
       "\t<li>'hs_other_money'</li>\n",
       "\t<li>'hs_other_fun'</li>\n",
       "\t<li>'hs_other_other'</li>\n",
       "\t<li>'hs_athletics'</li>\n",
       "\t<li>'hs_commservice'</li>\n",
       "\t<li>'hs_honors'</li>\n",
       "\t<li>'hs_clubs'</li>\n",
       "\t<li>'hs_govt'</li>\n",
       "\t<li>'hs_professional'</li>\n",
       "\t<li>'hs_arts_freq'</li>\n",
       "\t<li>'hs_encouragement'</li>\n",
       "\t<li>'hs_required'</li>\n",
       "\t<li>'hs_fees'</li>\n",
       "\t<li>'hs_participatewith'</li>\n",
       "\t<li>'hs_attendwith'</li>\n",
       "\t<li>'hs_outcome_enjoyment'</li>\n",
       "\t<li>'hs_outcome_explorecareer'</li>\n",
       "\t<li>'hs_outcome_resume'</li>\n",
       "\t<li>'hs_outcome_personalaesthetic'</li>\n",
       "\t<li>'hs_outcome_appreciation'</li>\n",
       "\t<li>'hs_outcome_creativeabilities'</li>\n",
       "\t<li>'hs_outcome_personalexpression'</li>\n",
       "\t<li>'hs_outcome_creativity'</li>\n",
       "\t<li>'hs_outcome_problemsolving'</li>\n",
       "\t<li>'hs_outcome_openmindedness'</li>\n",
       "\t<li>'hs_outcome_worldview'</li>\n",
       "\t<li>'hs_outcome_conflict'</li>\n",
       "\t<li>'hs_outcome_workwithothers'</li>\n",
       "\t<li>'hs_outcome_communication'</li>\n",
       "\t<li>'hs_outcome_networking'</li>\n",
       "\t<li>'hs_outcome_content'</li>\n",
       "\t<li>'hs_outcome_artsskills'</li>\n",
       "\t<li>'hs_outcome_socialresponsibility'</li>\n",
       "\t<li>'hs_outcome_leadership'</li>\n",
       "\t<li>'hs_outcome_timemanagement'</li>\n",
       "\t<li>'hs_outcome_organization'</li>\n",
       "\t<li>'hs_outcome_goals'</li>\n",
       "\t<li>'hs_outcome_values'</li>\n",
       "\t<li>'hs_outcome_other'</li>\n",
       "\t<li>'artsincollege'</li>\n",
       "\t<li>'f1_statement1'</li>\n",
       "\t<li>'f1_statement2'</li>\n",
       "\t<li>'f1_statement3'</li>\n",
       "\t<li>'f1_statement4'</li>\n",
       "\t<li>'f1_statement5'</li>\n",
       "\t<li>'f1_statement6'</li>\n",
       "\t<li>'f1_statement7'</li>\n",
       "\t<li>'f1_statement8'</li>\n",
       "\t<li>'f1_statement9'</li>\n",
       "\t<li>'f1_statement10'</li>\n",
       "\t<li>'f1_statement11'</li>\n",
       "\t<li>'f1_statement12'</li>\n",
       "\t<li>'f1_statement13'</li>\n",
       "\t<li>'f1_statement14'</li>\n",
       "\t<li>'f1_statement15'</li>\n",
       "\t<li>'f1_statement16'</li>\n",
       "\t<li>'f1_statement17'</li>\n",
       "\t<li>'f1_statement18'</li>\n",
       "\t<li>'f1_statement19'</li>\n",
       "\t<li>'f1_statement20'</li>\n",
       "\t<li>'f1_statement21'</li>\n",
       "\t<li>'f1_statement22'</li>\n",
       "\t<li>'f1_statement23'</li>\n",
       "\t<li>'f1_statement24'</li>\n",
       "\t<li>'f1_statement25'</li>\n",
       "\t<li>'f1_statement26'</li>\n",
       "\t<li>'f1_statement27'</li>\n",
       "\t<li>'f1_statement28'</li>\n",
       "\t<li>'f1_statement29'</li>\n",
       "\t<li>'f1_statement30'</li>\n",
       "\t<li>'f1_statement31'</li>\n",
       "\t<li>'f1_statement32'</li>\n",
       "\t<li>'f1_statement33'</li>\n",
       "\t<li>'f1_statement34'</li>\n",
       "\t<li>'f1_statement35'</li>\n",
       "\t<li>'f1_statement36'</li>\n",
       "\t<li>'f1_statement37'</li>\n",
       "\t<li>'f1_statement38'</li>\n",
       "\t<li>'f1_statement39'</li>\n",
       "\t<li>'f1_statement40'</li>\n",
       "\t<li>'f1_statement41'</li>\n",
       "\t<li>'f1_statement42'</li>\n",
       "\t<li>'f1_statement43'</li>\n",
       "\t<li>'f1_statement44'</li>\n",
       "\t<li>'f1_statement45'</li>\n",
       "\t<li>'f1_statement46'</li>\n",
       "\t<li>'f1_statement47'</li>\n",
       "\t<li>'f1_statement48'</li>\n",
       "\t<li>'f1_statement49'</li>\n",
       "\t<li>'f1_statement50'</li>\n",
       "\t<li>'f1_statement51'</li>\n",
       "\t<li>'f1_statement52'</li>\n",
       "\t<li>'f1_statement53'</li>\n",
       "\t<li>'f1_statement54'</li>\n",
       "\t<li>'f1_statement55'</li>\n",
       "\t<li>'f1_statement56'</li>\n",
       "\t<li>'f1_statement57'</li>\n",
       "\t<li>'f1_identity_musician'</li>\n",
       "\t<li>'f1_identity_visart'</li>\n",
       "\t<li>'f1_identity_dancer'</li>\n",
       "\t<li>'f1_identity_cwriter'</li>\n",
       "\t<li>'f1_identity_film'</li>\n",
       "\t<li>'f1_identity_gdesigner'</li>\n",
       "\t<li>'f1_identity_architect'</li>\n",
       "\t<li>'f1_identity_actor'</li>\n",
       "\t<li>'f1_identity_designer'</li>\n",
       "\t<li>'f1_identity_artsorg1'</li>\n",
       "\t<li>'f1_identity_artsorg2'</li>\n",
       "\t<li>'f1_identity_communityarts'</li>\n",
       "\t<li>'f1_identity_studyarts'</li>\n",
       "\t<li>'f1_identity_artsoutsidemajor'</li>\n",
       "\t<li>'f1_identity_buy'</li>\n",
       "\t<li>'f1_identity_attendyearly'</li>\n",
       "\t<li>'f1_identity_attendmonthly'</li>\n",
       "\t<li>'f1_identity_attendweekly'</li>\n",
       "\t<li>'f1_identity_makemusic'</li>\n",
       "\t<li>'f1_identity_makevisart'</li>\n",
       "\t<li>'f1_identity_dance'</li>\n",
       "\t<li>'f1_identity_cwrite'</li>\n",
       "\t<li>'f1_identity_makefilms'</li>\n",
       "\t<li>'f1_identity_design'</li>\n",
       "\t<li>'f1_identity_construct'</li>\n",
       "\t<li>'f1_identity_perform'</li>\n",
       "\t<li>'f1_results'</li>\n",
       "\t<li>'f1_focusgroup'</li>\n",
       "\t<li>'f1_rating_artistic'</li>\n",
       "\t<li>'f1_rating_personalaesthetic'</li>\n",
       "\t<li>'f1_rating_appreciation'</li>\n",
       "\t<li>'f1_rating_creative'</li>\n",
       "\t<li>'f1_rating_problemsolving'</li>\n",
       "\t<li>'f1_rating_expressive'</li>\n",
       "\t<li>'f1_rating_openminded'</li>\n",
       "\t<li>'f1_rating_worldview'</li>\n",
       "\t<li>'f1_rating_conflict'</li>\n",
       "\t<li>'f1_rating_workwithothers'</li>\n",
       "\t<li>'f1_rating_communication'</li>\n",
       "\t<li>'f1_rating_knowledgeable'</li>\n",
       "\t<li>'f1_rating_socialresponsibility'</li>\n",
       "\t<li>'f1_rating_leadership'</li>\n",
       "\t<li>'f1_rating_organization'</li>\n",
       "\t<li>'f1_rating_timely'</li>\n",
       "\t<li>'f1_rating_values'</li>\n",
       "</ol>\n"
      ],
      "text/latex": [
       "\\begin{enumerate*}\n",
       "\\item 'f1\\_surveyterm'\n",
       "\\item 'f2\\_surveyterm'\n",
       "\\item 'fl\\_surveyterm'\n",
       "\\item 'so\\_surveyterm'\n",
       "\\item 'sophlate\\_surveyterm'\n",
       "\\item 'jr\\_surveyterm'\n",
       "\\item 'jl\\_surveyterm'\n",
       "\\item 'sr\\_surveyterm'\n",
       "\\item 'sl\\_surveyterm'\n",
       "\\item 'hs\\_animation\\_attendance'\n",
       "\\item 'hs\\_animation\\_participation'\n",
       "\\item 'hs\\_animation\\_leadership'\n",
       "\\item 'hs\\_animation\\_none'\n",
       "\\item 'hs\\_architecture\\_attendance'\n",
       "\\item 'hs\\_architecture\\_participation'\n",
       "\\item 'hs\\_architecture\\_leadership'\n",
       "\\item 'hs\\_architecture\\_none'\n",
       "\\item 'hs\\_comedy\\_attendance'\n",
       "\\item 'hs\\_comedy\\_participation'\n",
       "\\item 'hs\\_comedy\\_leadership'\n",
       "\\item 'hs\\_comedy\\_none'\n",
       "\\item 'hs\\_comics\\_attendance'\n",
       "\\item 'hs\\_comics\\_participation'\n",
       "\\item 'hs\\_comics\\_leadership'\n",
       "\\item 'hs\\_comics\\_none'\n",
       "\\item 'hs\\_crafts\\_attendance'\n",
       "\\item 'hs\\_crafts\\_participation'\n",
       "\\item 'hs\\_crafts\\_leadership'\n",
       "\\item 'hs\\_crafts\\_none'\n",
       "\\item 'hs\\_cwriting\\_attendance'\n",
       "\\item 'hs\\_cwriting\\_participation'\n",
       "\\item 'hs\\_cwriting\\_leadership'\n",
       "\\item 'hs\\_cwriting\\_none'\n",
       "\\item 'hs\\_dance\\_attendance'\n",
       "\\item 'hs\\_dance\\_participation'\n",
       "\\item 'hs\\_dance\\_leadership'\n",
       "\\item 'hs\\_dance\\_none'\n",
       "\\item 'hs\\_film\\_attendance'\n",
       "\\item 'hs\\_film\\_participation'\n",
       "\\item 'hs\\_film\\_leadership'\n",
       "\\item 'hs\\_film\\_none'\n",
       "\\item 'hs\\_gdesign\\_attendance'\n",
       "\\item 'hs\\_gdesign\\_participation'\n",
       "\\item 'hs\\_gdesign\\_leadership'\n",
       "\\item 'hs\\_gdesign\\_none'\n",
       "\\item 'hs\\_multimedia\\_attendance'\n",
       "\\item 'hs\\_multimedia\\_participation'\n",
       "\\item 'hs\\_multimedia\\_leadership'\n",
       "\\item 'hs\\_multimedia\\_none'\n",
       "\\item 'hs\\_muscomp\\_attendance'\n",
       "\\item 'hs\\_muscomp\\_participation'\n",
       "\\item 'hs\\_muscomp\\_leadership'\n",
       "\\item 'hs\\_muscomp\\_none'\n",
       "\\item 'hs\\_musperf\\_attendance'\n",
       "\\item 'hs\\_musperf\\_participation'\n",
       "\\item 'hs\\_musperf\\_leadership'\n",
       "\\item 'hs\\_musperf\\_none'\n",
       "\\item 'hs\\_theatre\\_attendance'\n",
       "\\item 'hs\\_theatre\\_participation'\n",
       "\\item 'hs\\_theatre\\_leadership'\n",
       "\\item 'hs\\_theatre\\_none'\n",
       "\\item 'hs\\_visart\\_attendance'\n",
       "\\item 'hs\\_visart\\_participation'\n",
       "\\item 'hs\\_visart\\_leadership'\n",
       "\\item 'hs\\_visart\\_none'\n",
       "\\item 'hs\\_other\\_attendance'\n",
       "\\item 'hs\\_other\\_participation'\n",
       "\\item 'hs\\_other\\_leadership'\n",
       "\\item 'hs\\_other\\_none'\n",
       "\\item 'hs\\_animation\\_credit'\n",
       "\\item 'hs\\_animation\\_money'\n",
       "\\item 'hs\\_animation\\_fun'\n",
       "\\item 'hs\\_animation\\_other'\n",
       "\\item 'hs\\_architecture\\_credit'\n",
       "\\item 'hs\\_architecture\\_money'\n",
       "\\item 'hs\\_architecture\\_fun'\n",
       "\\item 'hs\\_architecture\\_other'\n",
       "\\item 'hs\\_comedy\\_credit'\n",
       "\\item 'hs\\_comedy\\_money'\n",
       "\\item 'hs\\_comedy\\_fun'\n",
       "\\item 'hs\\_comedy\\_other'\n",
       "\\item 'hs\\_comics\\_credit'\n",
       "\\item 'hs\\_comics\\_money'\n",
       "\\item 'hs\\_comics\\_fun'\n",
       "\\item 'hs\\_comics\\_other'\n",
       "\\item 'hs\\_crafts\\_credit'\n",
       "\\item 'hs\\_crafts\\_money'\n",
       "\\item 'hs\\_crafts\\_fun'\n",
       "\\item 'hs\\_crafts\\_other'\n",
       "\\item 'hs\\_cwriting\\_credit'\n",
       "\\item 'hs\\_cwriting\\_money'\n",
       "\\item 'hs\\_cwriting\\_fun'\n",
       "\\item 'hs\\_cwriting\\_other'\n",
       "\\item 'hs\\_dance\\_credit'\n",
       "\\item 'hs\\_dance\\_money'\n",
       "\\item 'hs\\_dance\\_fun'\n",
       "\\item 'hs\\_dance\\_other'\n",
       "\\item 'hs\\_film\\_credit'\n",
       "\\item 'hs\\_film\\_money'\n",
       "\\item 'hs\\_film\\_fun'\n",
       "\\item 'hs\\_film\\_other'\n",
       "\\item 'hs\\_gdesign\\_credit'\n",
       "\\item 'hs\\_gdesign\\_money'\n",
       "\\item 'hs\\_gdesign\\_fun'\n",
       "\\item 'hs\\_gdesign\\_other'\n",
       "\\item 'hs\\_multimedia\\_credit'\n",
       "\\item 'hs\\_multimedia\\_money'\n",
       "\\item 'hs\\_multimedia\\_fun'\n",
       "\\item 'hs\\_multimedia\\_other'\n",
       "\\item 'hs\\_muscomp\\_credit'\n",
       "\\item 'hs\\_muscomp\\_money'\n",
       "\\item 'hs\\_muscomp\\_fun'\n",
       "\\item 'hs\\_muscomp\\_other'\n",
       "\\item 'hs\\_musperf\\_credit'\n",
       "\\item 'hs\\_musperf\\_money'\n",
       "\\item 'hs\\_musperf\\_fun'\n",
       "\\item 'hs\\_musperf\\_other'\n",
       "\\item 'hs\\_theatre\\_credit'\n",
       "\\item 'hs\\_theatre\\_money'\n",
       "\\item 'hs\\_theatre\\_fun'\n",
       "\\item 'hs\\_theatre\\_other'\n",
       "\\item 'hs\\_visart\\_credit'\n",
       "\\item 'hs\\_visart\\_money'\n",
       "\\item 'hs\\_visart\\_fun'\n",
       "\\item 'hs\\_visart\\_other'\n",
       "\\item 'hs\\_other\\_credit'\n",
       "\\item 'hs\\_other\\_money'\n",
       "\\item 'hs\\_other\\_fun'\n",
       "\\item 'hs\\_other\\_other'\n",
       "\\item 'hs\\_athletics'\n",
       "\\item 'hs\\_commservice'\n",
       "\\item 'hs\\_honors'\n",
       "\\item 'hs\\_clubs'\n",
       "\\item 'hs\\_govt'\n",
       "\\item 'hs\\_professional'\n",
       "\\item 'hs\\_arts\\_freq'\n",
       "\\item 'hs\\_encouragement'\n",
       "\\item 'hs\\_required'\n",
       "\\item 'hs\\_fees'\n",
       "\\item 'hs\\_participatewith'\n",
       "\\item 'hs\\_attendwith'\n",
       "\\item 'hs\\_outcome\\_enjoyment'\n",
       "\\item 'hs\\_outcome\\_explorecareer'\n",
       "\\item 'hs\\_outcome\\_resume'\n",
       "\\item 'hs\\_outcome\\_personalaesthetic'\n",
       "\\item 'hs\\_outcome\\_appreciation'\n",
       "\\item 'hs\\_outcome\\_creativeabilities'\n",
       "\\item 'hs\\_outcome\\_personalexpression'\n",
       "\\item 'hs\\_outcome\\_creativity'\n",
       "\\item 'hs\\_outcome\\_problemsolving'\n",
       "\\item 'hs\\_outcome\\_openmindedness'\n",
       "\\item 'hs\\_outcome\\_worldview'\n",
       "\\item 'hs\\_outcome\\_conflict'\n",
       "\\item 'hs\\_outcome\\_workwithothers'\n",
       "\\item 'hs\\_outcome\\_communication'\n",
       "\\item 'hs\\_outcome\\_networking'\n",
       "\\item 'hs\\_outcome\\_content'\n",
       "\\item 'hs\\_outcome\\_artsskills'\n",
       "\\item 'hs\\_outcome\\_socialresponsibility'\n",
       "\\item 'hs\\_outcome\\_leadership'\n",
       "\\item 'hs\\_outcome\\_timemanagement'\n",
       "\\item 'hs\\_outcome\\_organization'\n",
       "\\item 'hs\\_outcome\\_goals'\n",
       "\\item 'hs\\_outcome\\_values'\n",
       "\\item 'hs\\_outcome\\_other'\n",
       "\\item 'artsincollege'\n",
       "\\item 'f1\\_statement1'\n",
       "\\item 'f1\\_statement2'\n",
       "\\item 'f1\\_statement3'\n",
       "\\item 'f1\\_statement4'\n",
       "\\item 'f1\\_statement5'\n",
       "\\item 'f1\\_statement6'\n",
       "\\item 'f1\\_statement7'\n",
       "\\item 'f1\\_statement8'\n",
       "\\item 'f1\\_statement9'\n",
       "\\item 'f1\\_statement10'\n",
       "\\item 'f1\\_statement11'\n",
       "\\item 'f1\\_statement12'\n",
       "\\item 'f1\\_statement13'\n",
       "\\item 'f1\\_statement14'\n",
       "\\item 'f1\\_statement15'\n",
       "\\item 'f1\\_statement16'\n",
       "\\item 'f1\\_statement17'\n",
       "\\item 'f1\\_statement18'\n",
       "\\item 'f1\\_statement19'\n",
       "\\item 'f1\\_statement20'\n",
       "\\item 'f1\\_statement21'\n",
       "\\item 'f1\\_statement22'\n",
       "\\item 'f1\\_statement23'\n",
       "\\item 'f1\\_statement24'\n",
       "\\item 'f1\\_statement25'\n",
       "\\item 'f1\\_statement26'\n",
       "\\item 'f1\\_statement27'\n",
       "\\item 'f1\\_statement28'\n",
       "\\item 'f1\\_statement29'\n",
       "\\item 'f1\\_statement30'\n",
       "\\item 'f1\\_statement31'\n",
       "\\item 'f1\\_statement32'\n",
       "\\item 'f1\\_statement33'\n",
       "\\item 'f1\\_statement34'\n",
       "\\item 'f1\\_statement35'\n",
       "\\item 'f1\\_statement36'\n",
       "\\item 'f1\\_statement37'\n",
       "\\item 'f1\\_statement38'\n",
       "\\item 'f1\\_statement39'\n",
       "\\item 'f1\\_statement40'\n",
       "\\item 'f1\\_statement41'\n",
       "\\item 'f1\\_statement42'\n",
       "\\item 'f1\\_statement43'\n",
       "\\item 'f1\\_statement44'\n",
       "\\item 'f1\\_statement45'\n",
       "\\item 'f1\\_statement46'\n",
       "\\item 'f1\\_statement47'\n",
       "\\item 'f1\\_statement48'\n",
       "\\item 'f1\\_statement49'\n",
       "\\item 'f1\\_statement50'\n",
       "\\item 'f1\\_statement51'\n",
       "\\item 'f1\\_statement52'\n",
       "\\item 'f1\\_statement53'\n",
       "\\item 'f1\\_statement54'\n",
       "\\item 'f1\\_statement55'\n",
       "\\item 'f1\\_statement56'\n",
       "\\item 'f1\\_statement57'\n",
       "\\item 'f1\\_identity\\_musician'\n",
       "\\item 'f1\\_identity\\_visart'\n",
       "\\item 'f1\\_identity\\_dancer'\n",
       "\\item 'f1\\_identity\\_cwriter'\n",
       "\\item 'f1\\_identity\\_film'\n",
       "\\item 'f1\\_identity\\_gdesigner'\n",
       "\\item 'f1\\_identity\\_architect'\n",
       "\\item 'f1\\_identity\\_actor'\n",
       "\\item 'f1\\_identity\\_designer'\n",
       "\\item 'f1\\_identity\\_artsorg1'\n",
       "\\item 'f1\\_identity\\_artsorg2'\n",
       "\\item 'f1\\_identity\\_communityarts'\n",
       "\\item 'f1\\_identity\\_studyarts'\n",
       "\\item 'f1\\_identity\\_artsoutsidemajor'\n",
       "\\item 'f1\\_identity\\_buy'\n",
       "\\item 'f1\\_identity\\_attendyearly'\n",
       "\\item 'f1\\_identity\\_attendmonthly'\n",
       "\\item 'f1\\_identity\\_attendweekly'\n",
       "\\item 'f1\\_identity\\_makemusic'\n",
       "\\item 'f1\\_identity\\_makevisart'\n",
       "\\item 'f1\\_identity\\_dance'\n",
       "\\item 'f1\\_identity\\_cwrite'\n",
       "\\item 'f1\\_identity\\_makefilms'\n",
       "\\item 'f1\\_identity\\_design'\n",
       "\\item 'f1\\_identity\\_construct'\n",
       "\\item 'f1\\_identity\\_perform'\n",
       "\\item 'f1\\_results'\n",
       "\\item 'f1\\_focusgroup'\n",
       "\\item 'f1\\_rating\\_artistic'\n",
       "\\item 'f1\\_rating\\_personalaesthetic'\n",
       "\\item 'f1\\_rating\\_appreciation'\n",
       "\\item 'f1\\_rating\\_creative'\n",
       "\\item 'f1\\_rating\\_problemsolving'\n",
       "\\item 'f1\\_rating\\_expressive'\n",
       "\\item 'f1\\_rating\\_openminded'\n",
       "\\item 'f1\\_rating\\_worldview'\n",
       "\\item 'f1\\_rating\\_conflict'\n",
       "\\item 'f1\\_rating\\_workwithothers'\n",
       "\\item 'f1\\_rating\\_communication'\n",
       "\\item 'f1\\_rating\\_knowledgeable'\n",
       "\\item 'f1\\_rating\\_socialresponsibility'\n",
       "\\item 'f1\\_rating\\_leadership'\n",
       "\\item 'f1\\_rating\\_organization'\n",
       "\\item 'f1\\_rating\\_timely'\n",
       "\\item 'f1\\_rating\\_values'\n",
       "\\end{enumerate*}\n"
      ],
      "text/markdown": [
       "1. 'f1_surveyterm'\n",
       "2. 'f2_surveyterm'\n",
       "3. 'fl_surveyterm'\n",
       "4. 'so_surveyterm'\n",
       "5. 'sophlate_surveyterm'\n",
       "6. 'jr_surveyterm'\n",
       "7. 'jl_surveyterm'\n",
       "8. 'sr_surveyterm'\n",
       "9. 'sl_surveyterm'\n",
       "10. 'hs_animation_attendance'\n",
       "11. 'hs_animation_participation'\n",
       "12. 'hs_animation_leadership'\n",
       "13. 'hs_animation_none'\n",
       "14. 'hs_architecture_attendance'\n",
       "15. 'hs_architecture_participation'\n",
       "16. 'hs_architecture_leadership'\n",
       "17. 'hs_architecture_none'\n",
       "18. 'hs_comedy_attendance'\n",
       "19. 'hs_comedy_participation'\n",
       "20. 'hs_comedy_leadership'\n",
       "21. 'hs_comedy_none'\n",
       "22. 'hs_comics_attendance'\n",
       "23. 'hs_comics_participation'\n",
       "24. 'hs_comics_leadership'\n",
       "25. 'hs_comics_none'\n",
       "26. 'hs_crafts_attendance'\n",
       "27. 'hs_crafts_participation'\n",
       "28. 'hs_crafts_leadership'\n",
       "29. 'hs_crafts_none'\n",
       "30. 'hs_cwriting_attendance'\n",
       "31. 'hs_cwriting_participation'\n",
       "32. 'hs_cwriting_leadership'\n",
       "33. 'hs_cwriting_none'\n",
       "34. 'hs_dance_attendance'\n",
       "35. 'hs_dance_participation'\n",
       "36. 'hs_dance_leadership'\n",
       "37. 'hs_dance_none'\n",
       "38. 'hs_film_attendance'\n",
       "39. 'hs_film_participation'\n",
       "40. 'hs_film_leadership'\n",
       "41. 'hs_film_none'\n",
       "42. 'hs_gdesign_attendance'\n",
       "43. 'hs_gdesign_participation'\n",
       "44. 'hs_gdesign_leadership'\n",
       "45. 'hs_gdesign_none'\n",
       "46. 'hs_multimedia_attendance'\n",
       "47. 'hs_multimedia_participation'\n",
       "48. 'hs_multimedia_leadership'\n",
       "49. 'hs_multimedia_none'\n",
       "50. 'hs_muscomp_attendance'\n",
       "51. 'hs_muscomp_participation'\n",
       "52. 'hs_muscomp_leadership'\n",
       "53. 'hs_muscomp_none'\n",
       "54. 'hs_musperf_attendance'\n",
       "55. 'hs_musperf_participation'\n",
       "56. 'hs_musperf_leadership'\n",
       "57. 'hs_musperf_none'\n",
       "58. 'hs_theatre_attendance'\n",
       "59. 'hs_theatre_participation'\n",
       "60. 'hs_theatre_leadership'\n",
       "61. 'hs_theatre_none'\n",
       "62. 'hs_visart_attendance'\n",
       "63. 'hs_visart_participation'\n",
       "64. 'hs_visart_leadership'\n",
       "65. 'hs_visart_none'\n",
       "66. 'hs_other_attendance'\n",
       "67. 'hs_other_participation'\n",
       "68. 'hs_other_leadership'\n",
       "69. 'hs_other_none'\n",
       "70. 'hs_animation_credit'\n",
       "71. 'hs_animation_money'\n",
       "72. 'hs_animation_fun'\n",
       "73. 'hs_animation_other'\n",
       "74. 'hs_architecture_credit'\n",
       "75. 'hs_architecture_money'\n",
       "76. 'hs_architecture_fun'\n",
       "77. 'hs_architecture_other'\n",
       "78. 'hs_comedy_credit'\n",
       "79. 'hs_comedy_money'\n",
       "80. 'hs_comedy_fun'\n",
       "81. 'hs_comedy_other'\n",
       "82. 'hs_comics_credit'\n",
       "83. 'hs_comics_money'\n",
       "84. 'hs_comics_fun'\n",
       "85. 'hs_comics_other'\n",
       "86. 'hs_crafts_credit'\n",
       "87. 'hs_crafts_money'\n",
       "88. 'hs_crafts_fun'\n",
       "89. 'hs_crafts_other'\n",
       "90. 'hs_cwriting_credit'\n",
       "91. 'hs_cwriting_money'\n",
       "92. 'hs_cwriting_fun'\n",
       "93. 'hs_cwriting_other'\n",
       "94. 'hs_dance_credit'\n",
       "95. 'hs_dance_money'\n",
       "96. 'hs_dance_fun'\n",
       "97. 'hs_dance_other'\n",
       "98. 'hs_film_credit'\n",
       "99. 'hs_film_money'\n",
       "100. 'hs_film_fun'\n",
       "101. 'hs_film_other'\n",
       "102. 'hs_gdesign_credit'\n",
       "103. 'hs_gdesign_money'\n",
       "104. 'hs_gdesign_fun'\n",
       "105. 'hs_gdesign_other'\n",
       "106. 'hs_multimedia_credit'\n",
       "107. 'hs_multimedia_money'\n",
       "108. 'hs_multimedia_fun'\n",
       "109. 'hs_multimedia_other'\n",
       "110. 'hs_muscomp_credit'\n",
       "111. 'hs_muscomp_money'\n",
       "112. 'hs_muscomp_fun'\n",
       "113. 'hs_muscomp_other'\n",
       "114. 'hs_musperf_credit'\n",
       "115. 'hs_musperf_money'\n",
       "116. 'hs_musperf_fun'\n",
       "117. 'hs_musperf_other'\n",
       "118. 'hs_theatre_credit'\n",
       "119. 'hs_theatre_money'\n",
       "120. 'hs_theatre_fun'\n",
       "121. 'hs_theatre_other'\n",
       "122. 'hs_visart_credit'\n",
       "123. 'hs_visart_money'\n",
       "124. 'hs_visart_fun'\n",
       "125. 'hs_visart_other'\n",
       "126. 'hs_other_credit'\n",
       "127. 'hs_other_money'\n",
       "128. 'hs_other_fun'\n",
       "129. 'hs_other_other'\n",
       "130. 'hs_athletics'\n",
       "131. 'hs_commservice'\n",
       "132. 'hs_honors'\n",
       "133. 'hs_clubs'\n",
       "134. 'hs_govt'\n",
       "135. 'hs_professional'\n",
       "136. 'hs_arts_freq'\n",
       "137. 'hs_encouragement'\n",
       "138. 'hs_required'\n",
       "139. 'hs_fees'\n",
       "140. 'hs_participatewith'\n",
       "141. 'hs_attendwith'\n",
       "142. 'hs_outcome_enjoyment'\n",
       "143. 'hs_outcome_explorecareer'\n",
       "144. 'hs_outcome_resume'\n",
       "145. 'hs_outcome_personalaesthetic'\n",
       "146. 'hs_outcome_appreciation'\n",
       "147. 'hs_outcome_creativeabilities'\n",
       "148. 'hs_outcome_personalexpression'\n",
       "149. 'hs_outcome_creativity'\n",
       "150. 'hs_outcome_problemsolving'\n",
       "151. 'hs_outcome_openmindedness'\n",
       "152. 'hs_outcome_worldview'\n",
       "153. 'hs_outcome_conflict'\n",
       "154. 'hs_outcome_workwithothers'\n",
       "155. 'hs_outcome_communication'\n",
       "156. 'hs_outcome_networking'\n",
       "157. 'hs_outcome_content'\n",
       "158. 'hs_outcome_artsskills'\n",
       "159. 'hs_outcome_socialresponsibility'\n",
       "160. 'hs_outcome_leadership'\n",
       "161. 'hs_outcome_timemanagement'\n",
       "162. 'hs_outcome_organization'\n",
       "163. 'hs_outcome_goals'\n",
       "164. 'hs_outcome_values'\n",
       "165. 'hs_outcome_other'\n",
       "166. 'artsincollege'\n",
       "167. 'f1_statement1'\n",
       "168. 'f1_statement2'\n",
       "169. 'f1_statement3'\n",
       "170. 'f1_statement4'\n",
       "171. 'f1_statement5'\n",
       "172. 'f1_statement6'\n",
       "173. 'f1_statement7'\n",
       "174. 'f1_statement8'\n",
       "175. 'f1_statement9'\n",
       "176. 'f1_statement10'\n",
       "177. 'f1_statement11'\n",
       "178. 'f1_statement12'\n",
       "179. 'f1_statement13'\n",
       "180. 'f1_statement14'\n",
       "181. 'f1_statement15'\n",
       "182. 'f1_statement16'\n",
       "183. 'f1_statement17'\n",
       "184. 'f1_statement18'\n",
       "185. 'f1_statement19'\n",
       "186. 'f1_statement20'\n",
       "187. 'f1_statement21'\n",
       "188. 'f1_statement22'\n",
       "189. 'f1_statement23'\n",
       "190. 'f1_statement24'\n",
       "191. 'f1_statement25'\n",
       "192. 'f1_statement26'\n",
       "193. 'f1_statement27'\n",
       "194. 'f1_statement28'\n",
       "195. 'f1_statement29'\n",
       "196. 'f1_statement30'\n",
       "197. 'f1_statement31'\n",
       "198. 'f1_statement32'\n",
       "199. 'f1_statement33'\n",
       "200. 'f1_statement34'\n",
       "201. 'f1_statement35'\n",
       "202. 'f1_statement36'\n",
       "203. 'f1_statement37'\n",
       "204. 'f1_statement38'\n",
       "205. 'f1_statement39'\n",
       "206. 'f1_statement40'\n",
       "207. 'f1_statement41'\n",
       "208. 'f1_statement42'\n",
       "209. 'f1_statement43'\n",
       "210. 'f1_statement44'\n",
       "211. 'f1_statement45'\n",
       "212. 'f1_statement46'\n",
       "213. 'f1_statement47'\n",
       "214. 'f1_statement48'\n",
       "215. 'f1_statement49'\n",
       "216. 'f1_statement50'\n",
       "217. 'f1_statement51'\n",
       "218. 'f1_statement52'\n",
       "219. 'f1_statement53'\n",
       "220. 'f1_statement54'\n",
       "221. 'f1_statement55'\n",
       "222. 'f1_statement56'\n",
       "223. 'f1_statement57'\n",
       "224. 'f1_identity_musician'\n",
       "225. 'f1_identity_visart'\n",
       "226. 'f1_identity_dancer'\n",
       "227. 'f1_identity_cwriter'\n",
       "228. 'f1_identity_film'\n",
       "229. 'f1_identity_gdesigner'\n",
       "230. 'f1_identity_architect'\n",
       "231. 'f1_identity_actor'\n",
       "232. 'f1_identity_designer'\n",
       "233. 'f1_identity_artsorg1'\n",
       "234. 'f1_identity_artsorg2'\n",
       "235. 'f1_identity_communityarts'\n",
       "236. 'f1_identity_studyarts'\n",
       "237. 'f1_identity_artsoutsidemajor'\n",
       "238. 'f1_identity_buy'\n",
       "239. 'f1_identity_attendyearly'\n",
       "240. 'f1_identity_attendmonthly'\n",
       "241. 'f1_identity_attendweekly'\n",
       "242. 'f1_identity_makemusic'\n",
       "243. 'f1_identity_makevisart'\n",
       "244. 'f1_identity_dance'\n",
       "245. 'f1_identity_cwrite'\n",
       "246. 'f1_identity_makefilms'\n",
       "247. 'f1_identity_design'\n",
       "248. 'f1_identity_construct'\n",
       "249. 'f1_identity_perform'\n",
       "250. 'f1_results'\n",
       "251. 'f1_focusgroup'\n",
       "252. 'f1_rating_artistic'\n",
       "253. 'f1_rating_personalaesthetic'\n",
       "254. 'f1_rating_appreciation'\n",
       "255. 'f1_rating_creative'\n",
       "256. 'f1_rating_problemsolving'\n",
       "257. 'f1_rating_expressive'\n",
       "258. 'f1_rating_openminded'\n",
       "259. 'f1_rating_worldview'\n",
       "260. 'f1_rating_conflict'\n",
       "261. 'f1_rating_workwithothers'\n",
       "262. 'f1_rating_communication'\n",
       "263. 'f1_rating_knowledgeable'\n",
       "264. 'f1_rating_socialresponsibility'\n",
       "265. 'f1_rating_leadership'\n",
       "266. 'f1_rating_organization'\n",
       "267. 'f1_rating_timely'\n",
       "268. 'f1_rating_values'\n",
       "\n",
       "\n"
      ],
      "text/plain": [
       "  [1] \"f1_surveyterm\"                   \"f2_surveyterm\"                  \n",
       "  [3] \"fl_surveyterm\"                   \"so_surveyterm\"                  \n",
       "  [5] \"sophlate_surveyterm\"             \"jr_surveyterm\"                  \n",
       "  [7] \"jl_surveyterm\"                   \"sr_surveyterm\"                  \n",
       "  [9] \"sl_surveyterm\"                   \"hs_animation_attendance\"        \n",
       " [11] \"hs_animation_participation\"      \"hs_animation_leadership\"        \n",
       " [13] \"hs_animation_none\"               \"hs_architecture_attendance\"     \n",
       " [15] \"hs_architecture_participation\"   \"hs_architecture_leadership\"     \n",
       " [17] \"hs_architecture_none\"            \"hs_comedy_attendance\"           \n",
       " [19] \"hs_comedy_participation\"         \"hs_comedy_leadership\"           \n",
       " [21] \"hs_comedy_none\"                  \"hs_comics_attendance\"           \n",
       " [23] \"hs_comics_participation\"         \"hs_comics_leadership\"           \n",
       " [25] \"hs_comics_none\"                  \"hs_crafts_attendance\"           \n",
       " [27] \"hs_crafts_participation\"         \"hs_crafts_leadership\"           \n",
       " [29] \"hs_crafts_none\"                  \"hs_cwriting_attendance\"         \n",
       " [31] \"hs_cwriting_participation\"       \"hs_cwriting_leadership\"         \n",
       " [33] \"hs_cwriting_none\"                \"hs_dance_attendance\"            \n",
       " [35] \"hs_dance_participation\"          \"hs_dance_leadership\"            \n",
       " [37] \"hs_dance_none\"                   \"hs_film_attendance\"             \n",
       " [39] \"hs_film_participation\"           \"hs_film_leadership\"             \n",
       " [41] \"hs_film_none\"                    \"hs_gdesign_attendance\"          \n",
       " [43] \"hs_gdesign_participation\"        \"hs_gdesign_leadership\"          \n",
       " [45] \"hs_gdesign_none\"                 \"hs_multimedia_attendance\"       \n",
       " [47] \"hs_multimedia_participation\"     \"hs_multimedia_leadership\"       \n",
       " [49] \"hs_multimedia_none\"              \"hs_muscomp_attendance\"          \n",
       " [51] \"hs_muscomp_participation\"        \"hs_muscomp_leadership\"          \n",
       " [53] \"hs_muscomp_none\"                 \"hs_musperf_attendance\"          \n",
       " [55] \"hs_musperf_participation\"        \"hs_musperf_leadership\"          \n",
       " [57] \"hs_musperf_none\"                 \"hs_theatre_attendance\"          \n",
       " [59] \"hs_theatre_participation\"        \"hs_theatre_leadership\"          \n",
       " [61] \"hs_theatre_none\"                 \"hs_visart_attendance\"           \n",
       " [63] \"hs_visart_participation\"         \"hs_visart_leadership\"           \n",
       " [65] \"hs_visart_none\"                  \"hs_other_attendance\"            \n",
       " [67] \"hs_other_participation\"          \"hs_other_leadership\"            \n",
       " [69] \"hs_other_none\"                   \"hs_animation_credit\"            \n",
       " [71] \"hs_animation_money\"              \"hs_animation_fun\"               \n",
       " [73] \"hs_animation_other\"              \"hs_architecture_credit\"         \n",
       " [75] \"hs_architecture_money\"           \"hs_architecture_fun\"            \n",
       " [77] \"hs_architecture_other\"           \"hs_comedy_credit\"               \n",
       " [79] \"hs_comedy_money\"                 \"hs_comedy_fun\"                  \n",
       " [81] \"hs_comedy_other\"                 \"hs_comics_credit\"               \n",
       " [83] \"hs_comics_money\"                 \"hs_comics_fun\"                  \n",
       " [85] \"hs_comics_other\"                 \"hs_crafts_credit\"               \n",
       " [87] \"hs_crafts_money\"                 \"hs_crafts_fun\"                  \n",
       " [89] \"hs_crafts_other\"                 \"hs_cwriting_credit\"             \n",
       " [91] \"hs_cwriting_money\"               \"hs_cwriting_fun\"                \n",
       " [93] \"hs_cwriting_other\"               \"hs_dance_credit\"                \n",
       " [95] \"hs_dance_money\"                  \"hs_dance_fun\"                   \n",
       " [97] \"hs_dance_other\"                  \"hs_film_credit\"                 \n",
       " [99] \"hs_film_money\"                   \"hs_film_fun\"                    \n",
       "[101] \"hs_film_other\"                   \"hs_gdesign_credit\"              \n",
       "[103] \"hs_gdesign_money\"                \"hs_gdesign_fun\"                 \n",
       "[105] \"hs_gdesign_other\"                \"hs_multimedia_credit\"           \n",
       "[107] \"hs_multimedia_money\"             \"hs_multimedia_fun\"              \n",
       "[109] \"hs_multimedia_other\"             \"hs_muscomp_credit\"              \n",
       "[111] \"hs_muscomp_money\"                \"hs_muscomp_fun\"                 \n",
       "[113] \"hs_muscomp_other\"                \"hs_musperf_credit\"              \n",
       "[115] \"hs_musperf_money\"                \"hs_musperf_fun\"                 \n",
       "[117] \"hs_musperf_other\"                \"hs_theatre_credit\"              \n",
       "[119] \"hs_theatre_money\"                \"hs_theatre_fun\"                 \n",
       "[121] \"hs_theatre_other\"                \"hs_visart_credit\"               \n",
       "[123] \"hs_visart_money\"                 \"hs_visart_fun\"                  \n",
       "[125] \"hs_visart_other\"                 \"hs_other_credit\"                \n",
       "[127] \"hs_other_money\"                  \"hs_other_fun\"                   \n",
       "[129] \"hs_other_other\"                  \"hs_athletics\"                   \n",
       "[131] \"hs_commservice\"                  \"hs_honors\"                      \n",
       "[133] \"hs_clubs\"                        \"hs_govt\"                        \n",
       "[135] \"hs_professional\"                 \"hs_arts_freq\"                   \n",
       "[137] \"hs_encouragement\"                \"hs_required\"                    \n",
       "[139] \"hs_fees\"                         \"hs_participatewith\"             \n",
       "[141] \"hs_attendwith\"                   \"hs_outcome_enjoyment\"           \n",
       "[143] \"hs_outcome_explorecareer\"        \"hs_outcome_resume\"              \n",
       "[145] \"hs_outcome_personalaesthetic\"    \"hs_outcome_appreciation\"        \n",
       "[147] \"hs_outcome_creativeabilities\"    \"hs_outcome_personalexpression\"  \n",
       "[149] \"hs_outcome_creativity\"           \"hs_outcome_problemsolving\"      \n",
       "[151] \"hs_outcome_openmindedness\"       \"hs_outcome_worldview\"           \n",
       "[153] \"hs_outcome_conflict\"             \"hs_outcome_workwithothers\"      \n",
       "[155] \"hs_outcome_communication\"        \"hs_outcome_networking\"          \n",
       "[157] \"hs_outcome_content\"              \"hs_outcome_artsskills\"          \n",
       "[159] \"hs_outcome_socialresponsibility\" \"hs_outcome_leadership\"          \n",
       "[161] \"hs_outcome_timemanagement\"       \"hs_outcome_organization\"        \n",
       "[163] \"hs_outcome_goals\"                \"hs_outcome_values\"              \n",
       "[165] \"hs_outcome_other\"                \"artsincollege\"                  \n",
       "[167] \"f1_statement1\"                   \"f1_statement2\"                  \n",
       "[169] \"f1_statement3\"                   \"f1_statement4\"                  \n",
       "[171] \"f1_statement5\"                   \"f1_statement6\"                  \n",
       "[173] \"f1_statement7\"                   \"f1_statement8\"                  \n",
       "[175] \"f1_statement9\"                   \"f1_statement10\"                 \n",
       "[177] \"f1_statement11\"                  \"f1_statement12\"                 \n",
       "[179] \"f1_statement13\"                  \"f1_statement14\"                 \n",
       "[181] \"f1_statement15\"                  \"f1_statement16\"                 \n",
       "[183] \"f1_statement17\"                  \"f1_statement18\"                 \n",
       "[185] \"f1_statement19\"                  \"f1_statement20\"                 \n",
       "[187] \"f1_statement21\"                  \"f1_statement22\"                 \n",
       "[189] \"f1_statement23\"                  \"f1_statement24\"                 \n",
       "[191] \"f1_statement25\"                  \"f1_statement26\"                 \n",
       "[193] \"f1_statement27\"                  \"f1_statement28\"                 \n",
       "[195] \"f1_statement29\"                  \"f1_statement30\"                 \n",
       "[197] \"f1_statement31\"                  \"f1_statement32\"                 \n",
       "[199] \"f1_statement33\"                  \"f1_statement34\"                 \n",
       "[201] \"f1_statement35\"                  \"f1_statement36\"                 \n",
       "[203] \"f1_statement37\"                  \"f1_statement38\"                 \n",
       "[205] \"f1_statement39\"                  \"f1_statement40\"                 \n",
       "[207] \"f1_statement41\"                  \"f1_statement42\"                 \n",
       "[209] \"f1_statement43\"                  \"f1_statement44\"                 \n",
       "[211] \"f1_statement45\"                  \"f1_statement46\"                 \n",
       "[213] \"f1_statement47\"                  \"f1_statement48\"                 \n",
       "[215] \"f1_statement49\"                  \"f1_statement50\"                 \n",
       "[217] \"f1_statement51\"                  \"f1_statement52\"                 \n",
       "[219] \"f1_statement53\"                  \"f1_statement54\"                 \n",
       "[221] \"f1_statement55\"                  \"f1_statement56\"                 \n",
       "[223] \"f1_statement57\"                  \"f1_identity_musician\"           \n",
       "[225] \"f1_identity_visart\"              \"f1_identity_dancer\"             \n",
       "[227] \"f1_identity_cwriter\"             \"f1_identity_film\"               \n",
       "[229] \"f1_identity_gdesigner\"           \"f1_identity_architect\"          \n",
       "[231] \"f1_identity_actor\"               \"f1_identity_designer\"           \n",
       "[233] \"f1_identity_artsorg1\"            \"f1_identity_artsorg2\"           \n",
       "[235] \"f1_identity_communityarts\"       \"f1_identity_studyarts\"          \n",
       "[237] \"f1_identity_artsoutsidemajor\"    \"f1_identity_buy\"                \n",
       "[239] \"f1_identity_attendyearly\"        \"f1_identity_attendmonthly\"      \n",
       "[241] \"f1_identity_attendweekly\"        \"f1_identity_makemusic\"          \n",
       "[243] \"f1_identity_makevisart\"          \"f1_identity_dance\"              \n",
       "[245] \"f1_identity_cwrite\"              \"f1_identity_makefilms\"          \n",
       "[247] \"f1_identity_design\"              \"f1_identity_construct\"          \n",
       "[249] \"f1_identity_perform\"             \"f1_results\"                     \n",
       "[251] \"f1_focusgroup\"                   \"f1_rating_artistic\"             \n",
       "[253] \"f1_rating_personalaesthetic\"     \"f1_rating_appreciation\"         \n",
       "[255] \"f1_rating_creative\"              \"f1_rating_problemsolving\"       \n",
       "[257] \"f1_rating_expressive\"            \"f1_rating_openminded\"           \n",
       "[259] \"f1_rating_worldview\"             \"f1_rating_conflict\"             \n",
       "[261] \"f1_rating_workwithothers\"        \"f1_rating_communication\"        \n",
       "[263] \"f1_rating_knowledgeable\"         \"f1_rating_socialresponsibility\" \n",
       "[265] \"f1_rating_leadership\"            \"f1_rating_organization\"         \n",
       "[267] \"f1_rating_timely\"                \"f1_rating_values\"               "
      ]
     },
     "metadata": {},
     "output_type": "display_data"
    }
   ],
   "source": [
    "cols[(cols %in% didnotCols)]"
   ]
  },
  {
   "cell_type": "markdown",
   "metadata": {},
   "source": [
    "## Change responseSet variables to factors"
   ]
  },
  {
   "cell_type": "code",
   "execution_count": null,
   "metadata": {
    "collapsed": true
   },
   "outputs": [],
   "source": [
    "df %<>% mutate_at(vars(ends_with('Set')), as.factor)"
   ]
  },
  {
   "cell_type": "markdown",
   "metadata": {},
   "source": [
    "# Import Demographic Data"
   ]
  },
  {
   "cell_type": "code",
   "execution_count": null,
   "metadata": {},
   "outputs": [],
   "source": [
    "demog <- read_sav(file = 'data/ArtsEngagementMerged_V2_no_uniqname.sav')"
   ]
  },
  {
   "cell_type": "code",
   "execution_count": 6,
   "metadata": {},
   "outputs": [],
   "source": [
    "key <- read.csv(file = 'data/unique_name+key_artsengagement_v2.csv')\n",
    "# not inherently needed"
   ]
  },
  {
   "cell_type": "code",
   "execution_count": 56,
   "metadata": {},
   "outputs": [
    {
     "data": {
      "text/html": [
       "<table>\n",
       "<thead><tr><th scope=col>X</th><th scope=col>temp</th><th scope=col>key</th><th scope=col>key.1</th></tr></thead>\n",
       "<tbody>\n",
       "\t<tr><td>1         </td><td>aabdunna  </td><td>WKRVG3695F</td><td>WKRVG3695F</td></tr>\n",
       "\t<tr><td>2         </td><td>aabeauch  </td><td>VKBLK5812B</td><td>VKBLK5812B</td></tr>\n",
       "\t<tr><td>3         </td><td>aabichir  </td><td>JGUST9616X</td><td>JGUST9616X</td></tr>\n",
       "\t<tr><td>4         </td><td>aacorona  </td><td>GWIFC7315D</td><td>GWIFC7315D</td></tr>\n",
       "\t<tr><td>5         </td><td>aafonso   </td><td>OKCUD3419W</td><td>OKCUD3419W</td></tr>\n",
       "\t<tr><td>6         </td><td>aaforsg   </td><td>TOONA3838W</td><td>TOONA3838W</td></tr>\n",
       "</tbody>\n",
       "</table>\n"
      ],
      "text/latex": [
       "\\begin{tabular}{r|llll}\n",
       " X & temp & key & key.1\\\\\n",
       "\\hline\n",
       "\t 1          & aabdunna   & WKRVG3695F & WKRVG3695F\\\\\n",
       "\t 2          & aabeauch   & VKBLK5812B & VKBLK5812B\\\\\n",
       "\t 3          & aabichir   & JGUST9616X & JGUST9616X\\\\\n",
       "\t 4          & aacorona   & GWIFC7315D & GWIFC7315D\\\\\n",
       "\t 5          & aafonso    & OKCUD3419W & OKCUD3419W\\\\\n",
       "\t 6          & aaforsg    & TOONA3838W & TOONA3838W\\\\\n",
       "\\end{tabular}\n"
      ],
      "text/markdown": [
       "\n",
       "X | temp | key | key.1 | \n",
       "|---|---|---|---|---|---|\n",
       "| 1          | aabdunna   | WKRVG3695F | WKRVG3695F | \n",
       "| 2          | aabeauch   | VKBLK5812B | VKBLK5812B | \n",
       "| 3          | aabichir   | JGUST9616X | JGUST9616X | \n",
       "| 4          | aacorona   | GWIFC7315D | GWIFC7315D | \n",
       "| 5          | aafonso    | OKCUD3419W | OKCUD3419W | \n",
       "| 6          | aaforsg    | TOONA3838W | TOONA3838W | \n",
       "\n",
       "\n"
      ],
      "text/plain": [
       "  X temp     key        key.1     \n",
       "1 1 aabdunna WKRVG3695F WKRVG3695F\n",
       "2 2 aabeauch VKBLK5812B VKBLK5812B\n",
       "3 3 aabichir JGUST9616X JGUST9616X\n",
       "4 4 aacorona GWIFC7315D GWIFC7315D\n",
       "5 5 aafonso  OKCUD3419W OKCUD3419W\n",
       "6 6 aaforsg  TOONA3838W TOONA3838W"
      ]
     },
     "metadata": {},
     "output_type": "display_data"
    },
    {
     "data": {
      "text/html": [
       "<table>\n",
       "<thead><tr><th></th><th scope=col>X</th><th scope=col>temp</th><th scope=col>key</th><th scope=col>key.1</th></tr></thead>\n",
       "<tbody>\n",
       "\t<tr><th scope=row>4823</th><td>4823      </td><td>zousley   </td><td>EDCPH0173Z</td><td>EDCPH0173Z</td></tr>\n",
       "\t<tr><th scope=row>4824</th><td>4824      </td><td>zpayne    </td><td>YJIBJ1967N</td><td>YJIBJ1967N</td></tr>\n",
       "\t<tr><th scope=row>4825</th><td>4825      </td><td>zvandyke  </td><td>AAHTC4583E</td><td>AAHTC4583E</td></tr>\n",
       "\t<tr><th scope=row>4826</th><td>4826      </td><td>zweglarz  </td><td>MADAD5099B</td><td>MADAD5099B</td></tr>\n",
       "\t<tr><th scope=row>4827</th><td>4827      </td><td>zwenchen  </td><td>PGCOD0004W</td><td>PGCOD0004W</td></tr>\n",
       "\t<tr><th scope=row>4828</th><td>4828      </td><td>zzent     </td><td>JNNTL5446R</td><td>JNNTL5446R</td></tr>\n",
       "</tbody>\n",
       "</table>\n"
      ],
      "text/latex": [
       "\\begin{tabular}{r|llll}\n",
       "  & X & temp & key & key.1\\\\\n",
       "\\hline\n",
       "\t4823 & 4823       & zousley    & EDCPH0173Z & EDCPH0173Z\\\\\n",
       "\t4824 & 4824       & zpayne     & YJIBJ1967N & YJIBJ1967N\\\\\n",
       "\t4825 & 4825       & zvandyke   & AAHTC4583E & AAHTC4583E\\\\\n",
       "\t4826 & 4826       & zweglarz   & MADAD5099B & MADAD5099B\\\\\n",
       "\t4827 & 4827       & zwenchen   & PGCOD0004W & PGCOD0004W\\\\\n",
       "\t4828 & 4828       & zzent      & JNNTL5446R & JNNTL5446R\\\\\n",
       "\\end{tabular}\n"
      ],
      "text/markdown": [
       "\n",
       "| <!--/--> | X | temp | key | key.1 | \n",
       "|---|---|---|---|---|---|\n",
       "| 4823 | 4823       | zousley    | EDCPH0173Z | EDCPH0173Z | \n",
       "| 4824 | 4824       | zpayne     | YJIBJ1967N | YJIBJ1967N | \n",
       "| 4825 | 4825       | zvandyke   | AAHTC4583E | AAHTC4583E | \n",
       "| 4826 | 4826       | zweglarz   | MADAD5099B | MADAD5099B | \n",
       "| 4827 | 4827       | zwenchen   | PGCOD0004W | PGCOD0004W | \n",
       "| 4828 | 4828       | zzent      | JNNTL5446R | JNNTL5446R | \n",
       "\n",
       "\n"
      ],
      "text/plain": [
       "     X    temp     key        key.1     \n",
       "4823 4823 zousley  EDCPH0173Z EDCPH0173Z\n",
       "4824 4824 zpayne   YJIBJ1967N YJIBJ1967N\n",
       "4825 4825 zvandyke AAHTC4583E AAHTC4583E\n",
       "4826 4826 zweglarz MADAD5099B MADAD5099B\n",
       "4827 4827 zwenchen PGCOD0004W PGCOD0004W\n",
       "4828 4828 zzent    JNNTL5446R JNNTL5446R"
      ]
     },
     "metadata": {},
     "output_type": "display_data"
    }
   ],
   "source": [
    "data.frame(head(key),head(demog %>% select(key)))\n",
    "data.frame(tail(key),tail(demog %>% select(key)))"
   ]
  },
  {
   "cell_type": "markdown",
   "metadata": {},
   "source": [
    "demog data is already aligned with df (alphabetized by uniqname)"
   ]
  },
  {
   "cell_type": "code",
   "execution_count": 16,
   "metadata": {},
   "outputs": [
    {
     "data": {
      "text/html": [
       "<ol class=list-inline>\n",
       "\t<li>'fl_intro2'</li>\n",
       "\t<li>'intro2'</li>\n",
       "\t<li>'key'</li>\n",
       "\t<li>'SEX_DESCRSHORT'</li>\n",
       "\t<li>'ETHNIC_GROUP'</li>\n",
       "\t<li>'ETHNIC_GROUP_DESCRSHORT'</li>\n",
       "\t<li>'ACAD_PLAN'</li>\n",
       "\t<li>'ACAD_PLAN_DESCR'</li>\n",
       "\t<li>'ACAD_GROUP_DESCR'</li>\n",
       "\t<li>'CUM_GPA'</li>\n",
       "\t<li>'FIRST_TERM_ATTENDED'</li>\n",
       "\t<li>'FIRST_TERM_ATTENDED_DESCRSHORT'</li>\n",
       "\t<li>'COMPLETION_TERM'</li>\n",
       "\t<li>'COMPLETION_TERM_DESCR'</li>\n",
       "\t<li>'ACAD_CAREER'</li>\n",
       "</ol>\n"
      ],
      "text/latex": [
       "\\begin{enumerate*}\n",
       "\\item 'fl\\_intro2'\n",
       "\\item 'intro2'\n",
       "\\item 'key'\n",
       "\\item 'SEX\\_DESCRSHORT'\n",
       "\\item 'ETHNIC\\_GROUP'\n",
       "\\item 'ETHNIC\\_GROUP\\_DESCRSHORT'\n",
       "\\item 'ACAD\\_PLAN'\n",
       "\\item 'ACAD\\_PLAN\\_DESCR'\n",
       "\\item 'ACAD\\_GROUP\\_DESCR'\n",
       "\\item 'CUM\\_GPA'\n",
       "\\item 'FIRST\\_TERM\\_ATTENDED'\n",
       "\\item 'FIRST\\_TERM\\_ATTENDED\\_DESCRSHORT'\n",
       "\\item 'COMPLETION\\_TERM'\n",
       "\\item 'COMPLETION\\_TERM\\_DESCR'\n",
       "\\item 'ACAD\\_CAREER'\n",
       "\\end{enumerate*}\n"
      ],
      "text/markdown": [
       "1. 'fl_intro2'\n",
       "2. 'intro2'\n",
       "3. 'key'\n",
       "4. 'SEX_DESCRSHORT'\n",
       "5. 'ETHNIC_GROUP'\n",
       "6. 'ETHNIC_GROUP_DESCRSHORT'\n",
       "7. 'ACAD_PLAN'\n",
       "8. 'ACAD_PLAN_DESCR'\n",
       "9. 'ACAD_GROUP_DESCR'\n",
       "10. 'CUM_GPA'\n",
       "11. 'FIRST_TERM_ATTENDED'\n",
       "12. 'FIRST_TERM_ATTENDED_DESCRSHORT'\n",
       "13. 'COMPLETION_TERM'\n",
       "14. 'COMPLETION_TERM_DESCR'\n",
       "15. 'ACAD_CAREER'\n",
       "\n",
       "\n"
      ],
      "text/plain": [
       " [1] \"fl_intro2\"                      \"intro2\"                        \n",
       " [3] \"key\"                            \"SEX_DESCRSHORT\"                \n",
       " [5] \"ETHNIC_GROUP\"                   \"ETHNIC_GROUP_DESCRSHORT\"       \n",
       " [7] \"ACAD_PLAN\"                      \"ACAD_PLAN_DESCR\"               \n",
       " [9] \"ACAD_GROUP_DESCR\"               \"CUM_GPA\"                       \n",
       "[11] \"FIRST_TERM_ATTENDED\"            \"FIRST_TERM_ATTENDED_DESCRSHORT\"\n",
       "[13] \"COMPLETION_TERM\"                \"COMPLETION_TERM_DESCR\"         \n",
       "[15] \"ACAD_CAREER\"                   "
      ]
     },
     "metadata": {},
     "output_type": "display_data"
    }
   ],
   "source": [
    "demog[!(names(demog) %in% names(df))] %>% names"
   ]
  },
  {
   "cell_type": "code",
   "execution_count": 21,
   "metadata": {},
   "outputs": [],
   "source": [
    "# sex\n",
    "demog$SEX_DESCRSHORT[demog$SEX_DESCRSHORT == 'NA'] <- NA\n",
    "df$sex <- demog$SEX_DESCRSHORT %>% zap_missing %>% zap_empty %>% zap_formats %>% as_factor"
   ]
  },
  {
   "cell_type": "code",
   "execution_count": 26,
   "metadata": {},
   "outputs": [],
   "source": [
    "# ethnic_group\n",
    "demog$ETHNIC_GROUP_DESCRSHORT[demog$ETHNIC_GROUP_DESCRSHORT == 'NA'] <- NA\n",
    "df$ethnic_group <- demog$ETHNIC_GROUP_DESCRSHORT %>% zap_missing %>% zap_empty %>% zap_formats %>% as_factor"
   ]
  },
  {
   "cell_type": "code",
   "execution_count": 33,
   "metadata": {},
   "outputs": [],
   "source": [
    "# major\n",
    "demog$ACAD_PLAN_DESCR[demog$ACAD_PLAN_DESCR == 'NA'] <- NA\n",
    "df$major <- demog$ACAD_PLAN_DESCR %>% zap_missing %>% zap_empty %>% zap_formats %>% as_factor"
   ]
  },
  {
   "cell_type": "code",
   "execution_count": 35,
   "metadata": {},
   "outputs": [],
   "source": [
    "# college\n",
    "demog$ACAD_GROUP_DESCR[demog$ACAD_GROUP_DESCR == 'NA'] <- NA\n",
    "df$college <- demog$ACAD_GROUP_DESCR %>% zap_missing %>% zap_empty %>% zap_formats %>% as_factor"
   ]
  },
  {
   "cell_type": "code",
   "execution_count": 39,
   "metadata": {},
   "outputs": [],
   "source": [
    "# GPA\n",
    "demog$CUM_GPA[demog$CUM_GPA == 'NA'] <- NA\n",
    "df$GPA <- demog$CUM_GPA %>% zap_missing %>% zap_empty %>% zap_formats %>% as.numeric\n",
    "df$GPA[df$GPA == 0 & !is.na(df$GPA)] <- NA"
   ]
  },
  {
   "cell_type": "code",
   "execution_count": 48,
   "metadata": {},
   "outputs": [],
   "source": [
    "# first_term\n",
    "demog$FIRST_TERM_ATTENDED_DESCRSHORT[demog$FIRST_TERM_ATTENDED_DESCRSHORT == 'NA'] <- NA\n",
    "df$first_term <- demog$FIRST_TERM_ATTENDED_DESCRSHORT %>% zap_missing %>% zap_empty %>% zap_formats %>% as_factor"
   ]
  },
  {
   "cell_type": "code",
   "execution_count": 49,
   "metadata": {},
   "outputs": [],
   "source": [
    "# completion_term\n",
    "demog$COMPLETION_TERM_DESCR[demog$COMPLETION_TERM_DESCR == 'NA'] <- NA\n",
    "df$completion_term <- demog$COMPLETION_TERM_DESCR %>% zap_missing %>% zap_empty %>% zap_formats %>% as_factor"
   ]
  },
  {
   "cell_type": "code",
   "execution_count": 50,
   "metadata": {},
   "outputs": [],
   "source": [
    "# college2\n",
    "demog$ACAD_CAREER[demog$ACAD_CAREER == 'NA'] <- NA\n",
    "df$college2 <- demog$ACAD_CAREER %>% zap_missing %>% zap_empty %>% zap_formats %>% as_factor"
   ]
  },
  {
   "cell_type": "markdown",
   "metadata": {},
   "source": [
    "### Replace uniqname with key"
   ]
  },
  {
   "cell_type": "code",
   "execution_count": null,
   "metadata": {},
   "outputs": [],
   "source": [
    "df <- bind_cols(select(key, key), select(df, -uniqname))"
   ]
  },
  {
   "cell_type": "markdown",
   "metadata": {},
   "source": [
    "# STM Data"
   ]
  },
  {
   "cell_type": "markdown",
   "metadata": {},
   "source": [
    "to do"
   ]
  },
  {
   "cell_type": "markdown",
   "metadata": {},
   "source": [
    "---"
   ]
  },
  {
   "cell_type": "code",
   "execution_count": 53,
   "metadata": {},
   "outputs": [],
   "source": [
    "library(broom)"
   ]
  },
  {
   "cell_type": "code",
   "execution_count": 54,
   "metadata": {},
   "outputs": [],
   "source": [
    "zeroLabelCols <- df[df %>% sapply(is.factor)] %>% \n",
    "                        sapply(function(dat)(dat %>% summary %>% tidy %>% arrange(x) %>% slice(1) %>% .$x == 0))"
   ]
  },
  {
   "cell_type": "code",
   "execution_count": 55,
   "metadata": {},
   "outputs": [
    {
     "data": {
      "text/html": [
       "<ol class=list-inline>\n",
       "\t<li>'fl_hstype'</li>\n",
       "\t<li>'so_highestdegreeplanned'</li>\n",
       "\t<li>'jr_highestdegreeplanned'</li>\n",
       "\t<li>'sr_highestdegreeplanned'</li>\n",
       "</ol>\n"
      ],
      "text/latex": [
       "\\begin{enumerate*}\n",
       "\\item 'fl\\_hstype'\n",
       "\\item 'so\\_highestdegreeplanned'\n",
       "\\item 'jr\\_highestdegreeplanned'\n",
       "\\item 'sr\\_highestdegreeplanned'\n",
       "\\end{enumerate*}\n"
      ],
      "text/markdown": [
       "1. 'fl_hstype'\n",
       "2. 'so_highestdegreeplanned'\n",
       "3. 'jr_highestdegreeplanned'\n",
       "4. 'sr_highestdegreeplanned'\n",
       "\n",
       "\n"
      ],
      "text/plain": [
       "[1] \"fl_hstype\"               \"so_highestdegreeplanned\"\n",
       "[3] \"jr_highestdegreeplanned\" \"sr_highestdegreeplanned\""
      ]
     },
     "metadata": {},
     "output_type": "display_data"
    }
   ],
   "source": [
    "df[df %>% sapply(is.factor)] %>% .[zeroLabelCols] %>% names"
   ]
  },
  {
   "cell_type": "markdown",
   "metadata": {},
   "source": [
    "**Be aware of these columns, as some packages will fail with factors that have levels with 0 occurrences**, or even less than 5"
   ]
  },
  {
   "cell_type": "markdown",
   "metadata": {},
   "source": [
    "# Save"
   ]
  },
  {
   "cell_type": "code",
   "execution_count": 147,
   "metadata": {
    "collapsed": true
   },
   "outputs": [],
   "source": [
    "save(df, file='data/artsengagement.Rda')"
   ]
  },
  {
   "cell_type": "code",
   "execution_count": 12,
   "metadata": {},
   "outputs": [],
   "source": [
    "load('data/artsengagement.Rda')"
   ]
  },
  {
   "cell_type": "markdown",
   "metadata": {},
   "source": [
    "# Optional: merge engagement columns\n",
    "eg. sr_comedy_none, sr_comedy_participation, etc, becomes a factor called sr_comedy with levels none, participation, etc"
   ]
  },
  {
   "cell_type": "code",
   "execution_count": null,
   "metadata": {
    "collapsed": true
   },
   "outputs": [],
   "source": [
    "year <- c('(hs)', '(fl|f1|f2)', '(so|sophlate)', '(jr|jl)', '(sr|sl)')\n",
    "year_names <- c('hs', 'f2', 'so', 'jr', 'sr')\n",
    "\n",
    "categories <- c('animation', 'architecture', 'comedy', 'comics', 'crafts', 'cwriting', 'dance', 'film',\n",
    "                'gdesign', 'multimedia', 'muscomp', 'musperf', 'theatre', 'visart', 'other', 'arts', 'athletics',\n",
    "                'commservice', 'honors', 'clubs', 'govt', 'professional')\n",
    "\n",
    "part_lvl <- c('none', 'attendance', 'participation', 'leadership')\n",
    "\n",
    "merged_pattern <- paste(\"\\\\w+_(\", paste(categories, collapse='|'), \")_(none|attendance|participation|leadership)\", sep=\"\")\n",
    "temp <- df[df %>% names %>% grepl(pattern = merged_pattern, perl=TRUE)]\n",
    "\n",
    "merged.df <- data_frame(junk = rep(NA, nrow(temp)))\n",
    "for(yr_idx in seq(year)) {\n",
    "    for(cat_idx in seq(categories)) {\n",
    "        pattern <- paste(year[yr_idx], \"_\", categories[cat_idx], \n",
    "                         \"_(none|attendance|participation|leadership)\", sep=\"\")\n",
    "        datum <- temp[temp %>% names %>% grepl(pattern = pattern, perl=TRUE)]\n",
    "        if(length(datum)!=0) {\n",
    "            merged <- c(rep(NA, nrow(datum)))\n",
    "            for(part_idx in seq(part_lvl)) {\n",
    "                datumia <- datum %>% select(ends_with(part_lvl[part_idx])) %>% as.matrix\n",
    "                for(row in seq(nrow(datum))) {\n",
    "                    if(!is.na(datumia[row]) & datumia[row] == 'Yes') {\n",
    "                        merged[row] <- part_lvl[part_idx]\n",
    "                    }\n",
    "                }\n",
    "            }\n",
    "            if(length(unique(merged)) > 1) {\n",
    "                merged.df %<>% mutate(newCol = merged)\n",
    "                merged.df$newCol %<>% as.factor\n",
    "                attr(merged.df$newCol, 'label') <- datum %>% select(ends_with(part_lvl[1])) %>% .[[1]] %>%\n",
    "                                                             attributes %>% .$label %>% substr(., 1,nchar(.)-5)\n",
    "                names(merged.df)[ncol(merged.df)] <- paste(year_names[yr_idx], '_', categories[cat_idx], sep='')\n",
    "            }\n",
    "        }\n",
    "    }\n",
    "}\n",
    "merged.df %>% select(-junk)\n",
    "\n",
    "df <- df[!(df %>% names %>% grepl(pattern = merged_pattern, perl=TRUE))]\n",
    "df <- bind_cols(df[1:22], merged.df, df[23:ncol(df)])"
   ]
  }
 ],
 "metadata": {
  "kernelspec": {
   "display_name": "R",
   "language": "R",
   "name": "ir"
  },
  "language_info": {
   "codemirror_mode": "r",
   "file_extension": ".r",
   "mimetype": "text/x-r-source",
   "name": "R",
   "pygments_lexer": "r",
   "version": "3.5.1"
  }
 },
 "nbformat": 4,
 "nbformat_minor": 2
}
